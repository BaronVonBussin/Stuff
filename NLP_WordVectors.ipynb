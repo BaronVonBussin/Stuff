{
  "nbformat": 4,
  "nbformat_minor": 0,
  "metadata": {
    "colab": {
      "provenance": [],
      "authorship_tag": "ABX9TyMj9s9nKpZBSh0tNiSH61JC",
      "include_colab_link": true
    },
    "kernelspec": {
      "name": "python3",
      "display_name": "Python 3"
    },
    "language_info": {
      "name": "python"
    }
  },
  "cells": [
    {
      "cell_type": "markdown",
      "metadata": {
        "id": "view-in-github",
        "colab_type": "text"
      },
      "source": [
        "<a href=\"https://colab.research.google.com/github/BaronVonBussin/Stuff/blob/main/NLP_WordVectors.ipynb\" target=\"_parent\"><img src=\"https://colab.research.google.com/assets/colab-badge.svg\" alt=\"Open In Colab\"/></a>"
      ]
    },
    {
      "cell_type": "code",
      "execution_count": 1,
      "metadata": {
        "colab": {
          "base_uri": "https://localhost:8080/"
        },
        "id": "Nd57qCIVnlw4",
        "outputId": "185bf2fb-6dcb-4a62-b264-4512eab0a48f"
      },
      "outputs": [
        {
          "output_type": "stream",
          "name": "stdout",
          "text": [
            "Requirement already satisfied: gensim==4.* in /usr/local/lib/python3.10/dist-packages (4.3.1)\n",
            "Requirement already satisfied: numpy>=1.18.5 in /usr/local/lib/python3.10/dist-packages (from gensim==4.*) (1.23.5)\n",
            "Requirement already satisfied: scipy>=1.7.0 in /usr/local/lib/python3.10/dist-packages (from gensim==4.*) (1.10.1)\n",
            "Requirement already satisfied: smart-open>=1.8.1 in /usr/local/lib/python3.10/dist-packages (from gensim==4.*) (6.3.0)\n"
          ]
        }
      ],
      "source": [
        "!pip install -U gensim==4.*"
      ]
    },
    {
      "cell_type": "code",
      "source": [
        "import collections\n",
        "import matplotlib.pyplot as plt\n",
        "import numpy as np\n",
        "import pandas as pd\n",
        "import spacy\n",
        "import tensorflow as tf\n",
        "\n",
        "from gensim.models.keyedvectors import KeyedVectors\n",
        "from sklearn.decomposition import PCA\n",
        "from sklearn.model_selection import train_test_split\n",
        "from tensorflow import keras\n",
        "from tensorflow.keras import layers"
      ],
      "metadata": {
        "id": "diomvFTioC5U"
      },
      "execution_count": 2,
      "outputs": []
    },
    {
      "cell_type": "code",
      "source": [
        "!gdown \"https://drive.google.com/uc?id=1BpfbHu4denceXiv8yfdY3EHgjKIcULku\""
      ],
      "metadata": {
        "colab": {
          "base_uri": "https://localhost:8080/"
        },
        "id": "4wgml0byoInL",
        "outputId": "deaac663-35e0-4979-9200-3dbd9db96b8b"
      },
      "execution_count": 3,
      "outputs": [
        {
          "output_type": "stream",
          "name": "stdout",
          "text": [
            "Downloading...\n",
            "From: https://drive.google.com/uc?id=1BpfbHu4denceXiv8yfdY3EHgjKIcULku\n",
            "To: /content/GoogleNews-vectors-negative300.bin.gz\n",
            "100% 1.65G/1.65G [00:27<00:00, 60.8MB/s]\n"
          ]
        }
      ]
    },
    {
      "cell_type": "code",
      "source": [
        "embedding_file = './GoogleNews-vectors-negative300.bin.gz'"
      ],
      "metadata": {
        "id": "ppCph_aFoRmN"
      },
      "execution_count": 4,
      "outputs": []
    },
    {
      "cell_type": "code",
      "source": [
        "%%time\n",
        "word_vectors = KeyedVectors.load_word2vec_format(embedding_file, binary=True, limit=200000)"
      ],
      "metadata": {
        "colab": {
          "base_uri": "https://localhost:8080/"
        },
        "id": "ytkWtXS8oVRL",
        "outputId": "0a9f7387-22d6-4b57-f28f-b07b70785a32"
      },
      "execution_count": 5,
      "outputs": [
        {
          "output_type": "stream",
          "name": "stdout",
          "text": [
            "CPU times: user 4.28 s, sys: 263 ms, total: 4.54 s\n",
            "Wall time: 4.65 s\n"
          ]
        }
      ]
    },
    {
      "cell_type": "code",
      "source": [
        "pizza = word_vectors['pizza']\n",
        "print(f'Vector dimension: {pizza.shape}')\n",
        "\n",
        "# The embedding for the word 'pizza'.\n",
        "print(pizza)"
      ],
      "metadata": {
        "colab": {
          "base_uri": "https://localhost:8080/"
        },
        "id": "q8SBsdi-oY3z",
        "outputId": "b9a77935-a63b-4a98-bf7f-0a65ded21746"
      },
      "execution_count": 6,
      "outputs": [
        {
          "output_type": "stream",
          "name": "stdout",
          "text": [
            "Vector dimension: (300,)\n",
            "[-1.25976562e-01  2.53906250e-02  1.66992188e-01  5.50781250e-01\n",
            " -7.66601562e-02  1.28906250e-01  1.02539062e-01 -3.94821167e-04\n",
            "  1.21582031e-01  4.32128906e-02  1.72851562e-01 -6.83593750e-02\n",
            "  3.41796875e-01  8.39843750e-02  6.68945312e-02  2.67578125e-01\n",
            " -3.71093750e-02 -5.56640625e-02  1.80664062e-01  1.90429688e-02\n",
            " -5.07812500e-02  9.03320312e-03  1.76757812e-01  6.49414062e-02\n",
            " -6.25000000e-02 -9.42382812e-02 -9.71679688e-02  4.00390625e-01\n",
            "  1.15234375e-01  1.02539062e-01 -1.86767578e-02 -2.69531250e-01\n",
            "  1.80664062e-01  1.25000000e-01 -3.17382812e-02 -5.49316406e-02\n",
            "  3.45703125e-01 -1.57470703e-02  1.82390213e-05  2.07031250e-01\n",
            " -1.25976562e-01 -2.83203125e-01  2.00195312e-01  8.34960938e-02\n",
            " -4.73632812e-02 -3.11279297e-02 -2.61718750e-01  1.69921875e-01\n",
            " -2.02636719e-02  1.53320312e-01 -1.20605469e-01  3.75000000e-01\n",
            " -5.68847656e-02 -4.76074219e-03 -1.95312500e-01 -2.03125000e-01\n",
            "  3.00781250e-01 -1.01074219e-01 -3.18359375e-01 -9.03320312e-02\n",
            " -1.19140625e-01  1.95312500e-01 -8.78906250e-02  1.58203125e-01\n",
            "  1.51977539e-02 -1.60156250e-01 -3.30078125e-01 -4.66796875e-01\n",
            "  1.68945312e-01  2.23388672e-02  1.55273438e-01  1.08398438e-01\n",
            " -3.56445312e-02  9.13085938e-02 -8.69140625e-02 -1.20117188e-01\n",
            " -3.08593750e-01 -2.61230469e-02 -7.22656250e-02 -4.80468750e-01\n",
            "  3.78417969e-02 -1.35742188e-01 -1.02539062e-01 -2.91015625e-01\n",
            " -1.93359375e-01 -4.21875000e-01 -1.06445312e-01  3.55468750e-01\n",
            "  1.66992188e-01 -3.63159180e-03 -7.42187500e-02 -3.22265625e-01\n",
            " -7.51953125e-02 -8.25195312e-02 -2.91015625e-01 -1.25976562e-01\n",
            "  1.68457031e-02  5.00488281e-02  1.27929688e-01 -7.42187500e-02\n",
            " -1.30859375e-01 -2.46093750e-01  6.49414062e-02  1.53320312e-01\n",
            "  2.59765625e-01 -1.05468750e-01  3.57421875e-01 -4.29687500e-02\n",
            " -1.58203125e-01  8.20312500e-02 -5.98144531e-02 -2.34375000e-01\n",
            " -3.22265625e-01 -1.25976562e-01  5.39550781e-02 -1.87500000e-01\n",
            "  1.35742188e-01 -6.59179688e-02  8.36181641e-03 -1.84570312e-01\n",
            " -2.96875000e-01 -1.84570312e-01 -4.73632812e-02 -1.06445312e-01\n",
            " -6.93359375e-02  3.83300781e-02 -3.19824219e-02  3.63769531e-02\n",
            " -1.20117188e-01  1.76757812e-01 -1.15722656e-01  1.98974609e-02\n",
            "  8.64257812e-02  6.07910156e-02 -1.40625000e-01  3.30078125e-01\n",
            "  1.94335938e-01 -1.56250000e-01  3.92578125e-01  1.80816650e-03\n",
            "  7.27539062e-02 -2.53906250e-01 -3.54003906e-02  2.86865234e-03\n",
            " -1.72851562e-01  9.76562500e-03 -1.55639648e-02  3.23486328e-03\n",
            " -1.69921875e-01  1.55273438e-01  7.17773438e-02  4.10156250e-01\n",
            " -2.10937500e-01  1.31835938e-01  7.62939453e-03  4.78515625e-02\n",
            " -4.54101562e-02  7.32421875e-02 -4.06250000e-01 -2.06298828e-02\n",
            " -4.04296875e-01 -1.00585938e-01 -2.03125000e-01  1.55273438e-01\n",
            " -1.89453125e-01  6.59179688e-02  6.54296875e-02 -2.05078125e-01\n",
            "  5.46875000e-02 -3.06396484e-02 -1.54296875e-01 -2.61718750e-01\n",
            "  3.81469727e-03 -8.20312500e-02 -3.20312500e-01  2.84423828e-02\n",
            "  2.69531250e-01  1.73828125e-01 -1.66992188e-01  2.22656250e-01\n",
            "  6.34765625e-02 -1.96289062e-01  1.45507812e-01 -1.56250000e-02\n",
            "  2.60009766e-02 -6.29882812e-02  2.94189453e-02  3.28125000e-01\n",
            " -4.68750000e-02 -1.52343750e-01  6.98242188e-02  3.18359375e-01\n",
            " -1.08398438e-01  3.66210938e-02 -1.99218750e-01  1.64031982e-03\n",
            "  6.40869141e-03 -1.47460938e-01 -6.25000000e-02 -4.36401367e-03\n",
            " -2.75390625e-01  8.54492188e-02 -5.00488281e-02 -3.12500000e-01\n",
            " -1.33789062e-01 -1.99218750e-01  5.17578125e-02 -9.27734375e-02\n",
            " -2.40234375e-01 -7.86132812e-02 -1.54296875e-01 -6.64062500e-02\n",
            " -1.97265625e-01  1.76757812e-01 -1.57226562e-01 -1.63085938e-01\n",
            "  6.00585938e-02 -5.85937500e-02 -2.22656250e-01 -6.59179688e-02\n",
            " -9.37500000e-02 -4.14062500e-01  2.55859375e-01 -1.76757812e-01\n",
            "  2.51953125e-01  1.48437500e-01 -1.04492188e-01 -8.60595703e-03\n",
            " -1.22558594e-01 -9.22851562e-02  4.41894531e-02 -1.70898438e-01\n",
            " -1.98242188e-01  1.92382812e-01  2.85156250e-01 -4.34570312e-02\n",
            "  1.08398438e-01 -5.37109375e-02 -2.09960938e-02  1.46484375e-01\n",
            "  3.82812500e-01  2.31933594e-02 -8.83789062e-02  7.32421875e-02\n",
            " -1.01074219e-01 -1.06445312e-01  4.12109375e-01  2.10937500e-01\n",
            "  2.79296875e-01 -2.08740234e-02  2.07031250e-01  9.81445312e-02\n",
            "  2.39257812e-01  7.66601562e-02  2.02148438e-01 -6.07910156e-02\n",
            " -2.63977051e-03 -1.83593750e-01 -1.57470703e-02 -3.20312500e-01\n",
            "  9.03320312e-02  1.02050781e-01 -4.96093750e-01 -9.71679688e-02\n",
            " -8.10546875e-02 -1.80664062e-01 -1.45507812e-01  8.64257812e-02\n",
            " -2.04101562e-01 -2.02148438e-01 -5.46875000e-02  2.53906250e-01\n",
            "  2.08740234e-02 -1.15722656e-01  2.02148438e-01 -8.05664062e-02\n",
            " -1.04980469e-01 -7.95898438e-02  1.96533203e-02 -2.49023438e-01\n",
            "  1.30859375e-01  2.89062500e-01 -2.25585938e-01  4.55078125e-01\n",
            " -2.73437500e-01 -2.57812500e-01 -3.14941406e-02  4.04296875e-01\n",
            " -2.67578125e-01  2.89062500e-01 -1.83593750e-01 -1.48437500e-01\n",
            " -1.06933594e-01  1.27929688e-01  5.46875000e-01 -8.69140625e-02\n",
            " -1.48315430e-02  6.98242188e-02 -8.49609375e-02 -1.55273438e-01]\n"
          ]
        }
      ]
    },
    {
      "cell_type": "code",
      "source": [
        "print(word_vectors.similarity('pizza', 'tomato'))\n",
        "print(word_vectors.similarity('pizza', 'sauce'))\n",
        "print(word_vectors.similarity('pizza', 'cheese'))\n",
        "print(word_vectors.similarity('pizza', 'pie'))\n",
        "print(word_vectors.similarity('pizza', 'dish'))\n",
        "print(word_vectors.similarity('pizza', 'bubbly'))\n",
        "print(word_vectors.similarity('pizza', 'beer'))\n",
        "print(word_vectors.similarity('pizza', 'veggie'))\n",
        "print(word_vectors.similarity('pizza', 'pepperoni'))"
      ],
      "metadata": {
        "colab": {
          "base_uri": "https://localhost:8080/"
        },
        "id": "Rl22CWEyoblb",
        "outputId": "4f3c7d48-5969-4256-873d-ebe22c024215"
      },
      "execution_count": 9,
      "outputs": [
        {
          "output_type": "stream",
          "name": "stdout",
          "text": [
            "0.35505623\n",
            "0.36959887\n",
            "0.47083578\n",
            "0.47884324\n",
            "0.3909703\n",
            "0.20242114\n",
            "0.4668596\n",
            "0.415411\n",
            "0.57963943\n"
          ]
        }
      ]
    },
    {
      "cell_type": "code",
      "source": [
        "print(word_vectors.similarity('pizza', 'gorilla'))\n",
        "print(word_vectors.similarity('pizza', 'tree'))\n",
        "print(word_vectors.similarity('pizza', 'yoga'))\n",
        "print(word_vectors.similarity('pizza', 'munchies'))\n",
        "print(word_vectors.similarity('pizza', 'diet'))\n",
        "print(word_vectors.similarity('pizza', 'broccoli'))\n",
        "print(word_vectors.similarity('pizza', 'italian'))\n",
        "print(word_vectors.similarity('pizza', 'caveman'))\n",
        "print(word_vectors.similarity('pizza', 'dough'))"
      ],
      "metadata": {
        "colab": {
          "base_uri": "https://localhost:8080/"
        },
        "id": "Yt5vt_Tnoe2d",
        "outputId": "22ed2a8a-2313-4ae3-f204-bb61a5f963a9"
      },
      "execution_count": 13,
      "outputs": [
        {
          "output_type": "stream",
          "name": "stdout",
          "text": [
            "0.108518735\n",
            "0.11185601\n",
            "0.14119941\n",
            "0.47221074\n",
            "0.18705975\n",
            "0.40431416\n",
            "0.25442347\n",
            "0.21917732\n",
            "0.3947332\n"
          ]
        }
      ]
    },
    {
      "cell_type": "code",
      "source": [
        "try:\n",
        "  word_vectors['womblyboo']\n",
        "except KeyError as e:\n",
        "  print(e)"
      ],
      "metadata": {
        "colab": {
          "base_uri": "https://localhost:8080/"
        },
        "id": "_odsVwBYpUPi",
        "outputId": "0c01f875-7a35-41b2-8ccd-b8ddc6cd75e7"
      },
      "execution_count": 14,
      "outputs": [
        {
          "output_type": "stream",
          "name": "stdout",
          "text": [
            "\"Key 'womblyboo' not present\"\n"
          ]
        }
      ]
    },
    {
      "cell_type": "code",
      "source": [
        "word_vectors.n_similarity(\"dog bites man\".split(), \"canine nips human\".split())"
      ],
      "metadata": {
        "colab": {
          "base_uri": "https://localhost:8080/"
        },
        "id": "6ycoFr5apXMC",
        "outputId": "a69e9f7f-6ed4-4f89-91f5-40fed0436569"
      },
      "execution_count": 15,
      "outputs": [
        {
          "output_type": "execute_result",
          "data": {
            "text/plain": [
              "0.5314661"
            ]
          },
          "metadata": {},
          "execution_count": 15
        }
      ]
    },
    {
      "cell_type": "code",
      "source": [
        "word_vectors.n_similarity(\"martian dolphins are hostile\".split(), \"i flunked calligraphy school\".split())"
      ],
      "metadata": {
        "colab": {
          "base_uri": "https://localhost:8080/"
        },
        "id": "68ll9yK2pYH6",
        "outputId": "8fceea57-3bc6-4b3b-db66-fa0c835abef4"
      },
      "execution_count": 16,
      "outputs": [
        {
          "output_type": "execute_result",
          "data": {
            "text/plain": [
              "0.14505777"
            ]
          },
          "metadata": {},
          "execution_count": 16
        }
      ]
    },
    {
      "cell_type": "code",
      "source": [
        "word_vectors.n_similarity(\"dog bites man\".split(), \"man bites dog\".split())"
      ],
      "metadata": {
        "colab": {
          "base_uri": "https://localhost:8080/"
        },
        "id": "WNINrPVqpf9h",
        "outputId": "140888d8-a273-4e17-cc68-d82d9c8f40cc"
      },
      "execution_count": 17,
      "outputs": [
        {
          "output_type": "execute_result",
          "data": {
            "text/plain": [
              "1.0"
            ]
          },
          "metadata": {},
          "execution_count": 17
        }
      ]
    },
    {
      "cell_type": "code",
      "source": [
        "s1 = \"Volkswagen intends to double electric car sales in China\".lower().split()\n",
        "s2 = \"First Toyota with solid state battery will be hybrid\".lower().split()\n",
        "word_vectors.n_similarity(s1, s2)"
      ],
      "metadata": {
        "colab": {
          "base_uri": "https://localhost:8080/"
        },
        "id": "Yg1T74aCpjWZ",
        "outputId": "308a452c-3122-4d42-aefb-1532c8b19e5d"
      },
      "execution_count": 18,
      "outputs": [
        {
          "output_type": "execute_result",
          "data": {
            "text/plain": [
              "0.52682734"
            ]
          },
          "metadata": {},
          "execution_count": 18
        }
      ]
    },
    {
      "cell_type": "code",
      "source": [
        "word_vectors.most_similar(positive=['cell'], topn=10)"
      ],
      "metadata": {
        "colab": {
          "base_uri": "https://localhost:8080/"
        },
        "id": "g-n-NzKRpn95",
        "outputId": "b305cb93-0eed-4239-fe0b-9e8d24b27059"
      },
      "execution_count": 19,
      "outputs": [
        {
          "output_type": "execute_result",
          "data": {
            "text/plain": [
              "[('cells', 0.8180485367774963),\n",
              " ('Cells', 0.6146953105926514),\n",
              " ('Cell', 0.5321314930915833),\n",
              " ('cellular', 0.5272858142852783),\n",
              " ('tumor_cells', 0.5097643136978149),\n",
              " ('ES_cells', 0.4866572618484497),\n",
              " ('immune_cells', 0.4831920266151428),\n",
              " ('epithelial_cells', 0.47818055748939514),\n",
              " ('molecule', 0.47757473587989807),\n",
              " ('proteins', 0.4749472737312317)]"
            ]
          },
          "metadata": {},
          "execution_count": 19
        }
      ]
    },
    {
      "cell_type": "code",
      "source": [
        "word_vectors.most_similar(positive=['cell', 'phone'], topn=10)"
      ],
      "metadata": {
        "colab": {
          "base_uri": "https://localhost:8080/"
        },
        "id": "hoLZfx6HpqQZ",
        "outputId": "a057dee1-31fd-4997-e7df-b22abd685676"
      },
      "execution_count": 20,
      "outputs": [
        {
          "output_type": "execute_result",
          "data": {
            "text/plain": [
              "[('cell_phone', 0.6861391067504883),\n",
              " ('cellular', 0.6757438778877258),\n",
              " ('cellphone', 0.6633196473121643),\n",
              " ('telephone', 0.6474039554595947),\n",
              " ('Phone', 0.605189323425293),\n",
              " ('phones', 0.5896332859992981),\n",
              " ('cells', 0.585094690322876),\n",
              " ('cordless_phone', 0.5711769461631775),\n",
              " ('Cell', 0.5617641806602478),\n",
              " ('landline', 0.5467296242713928)]"
            ]
          },
          "metadata": {},
          "execution_count": 20
        }
      ]
    },
    {
      "cell_type": "code",
      "source": [
        "word_vectors.doesnt_match([\"apple\", \"orange\", \"hamburger\", \"banana\", \"kiwi\"])"
      ],
      "metadata": {
        "colab": {
          "base_uri": "https://localhost:8080/",
          "height": 35
        },
        "id": "AxJ2LnOIpsc7",
        "outputId": "80545873-4f6c-4e36-8334-f1e11ed93a17"
      },
      "execution_count": 21,
      "outputs": [
        {
          "output_type": "execute_result",
          "data": {
            "text/plain": [
              "'hamburger'"
            ],
            "application/vnd.google.colaboratory.intrinsic+json": {
              "type": "string"
            }
          },
          "metadata": {},
          "execution_count": 21
        }
      ]
    },
    {
      "cell_type": "code",
      "source": [
        "word_vectors.doesnt_match([\"Microsoft\", \"Apple\", \"Toyota\", \"Amazon\", \"Netflix\", \"Google\"])"
      ],
      "metadata": {
        "colab": {
          "base_uri": "https://localhost:8080/",
          "height": 35
        },
        "id": "CS3iLtmlpuiR",
        "outputId": "49a72768-c3dd-4f5a-ad08-e1b87caeb11d"
      },
      "execution_count": 22,
      "outputs": [
        {
          "output_type": "execute_result",
          "data": {
            "text/plain": [
              "'Toyota'"
            ],
            "application/vnd.google.colaboratory.intrinsic+json": {
              "type": "string"
            }
          },
          "metadata": {},
          "execution_count": 22
        }
      ]
    },
    {
      "cell_type": "code",
      "source": [
        "def display_pca_scatterplot(model, words):\n",
        "    word_vectors = np.array([model[w] for w in words])\n",
        "\n",
        "    twodim = PCA().fit_transform(word_vectors)[:,:2]\n",
        "\n",
        "    plt.figure(figsize=(10,10))\n",
        "    plt.scatter(twodim[:,0], twodim[:,1], edgecolors='k', c='r', s=128)\n",
        "    for word, (x,y) in zip(words, twodim):\n",
        "        plt.text(x+0.05, y+0.05, word)"
      ],
      "metadata": {
        "id": "DOkqmrFhpw7a"
      },
      "execution_count": 23,
      "outputs": []
    },
    {
      "cell_type": "code",
      "source": [
        "display_pca_scatterplot(word_vectors, ['swim', 'swimming', 'cat', 'dog', 'feline', 'road', 'car', 'bus'])"
      ],
      "metadata": {
        "colab": {
          "base_uri": "https://localhost:8080/",
          "height": 830
        },
        "id": "F0doiC2lpzeB",
        "outputId": "9215e99b-3a68-4864-b9bd-8e94106962ee"
      },
      "execution_count": 24,
      "outputs": [
        {
          "output_type": "display_data",
          "data": {
            "text/plain": [
              "<Figure size 1000x1000 with 1 Axes>"
            ],
            "image/png": "[encoded data removed]"
          },
          "metadata": {}
        }
      ]
    },
    {
      "cell_type": "code",
      "source": [
        "word_vectors.most_similar(positive=['Italy', 'London'], negative=['Rome'], topn=3)"
      ],
      "metadata": {
        "colab": {
          "base_uri": "https://localhost:8080/"
        },
        "id": "8XWE0huTp2SR",
        "outputId": "26308acd-14b5-4770-fb88-6e65a4edfacb"
      },
      "execution_count": 25,
      "outputs": [
        {
          "output_type": "execute_result",
          "data": {
            "text/plain": [
              "[('UK', 0.6230568885803223),\n",
              " ('Britain', 0.6016390323638916),\n",
              " ('United_Kingdom', 0.534345805644989)]"
            ]
          },
          "metadata": {},
          "execution_count": 25
        }
      ]
    },
    {
      "cell_type": "code",
      "source": [
        "display_pca_scatterplot(word_vectors, ['Rome', 'Italy', 'London', 'Britain', 'UK'])"
      ],
      "metadata": {
        "colab": {
          "base_uri": "https://localhost:8080/",
          "height": 830
        },
        "id": "nQSCKURlp4fh",
        "outputId": "16b1d569-0b23-46ca-a6c9-6668a66089b6"
      },
      "execution_count": 26,
      "outputs": [
        {
          "output_type": "display_data",
          "data": {
            "text/plain": [
              "<Figure size 1000x1000 with 1 Axes>"
            ],
            "image/png": "[encoded data removed]"
          },
          "metadata": {}
        }
      ]
    },
    {
      "cell_type": "code",
      "source": [
        "%%time\n",
        "word_vectors = KeyedVectors.load_word2vec_format(embedding_file, binary=True, limit=1000000)"
      ],
      "metadata": {
        "colab": {
          "base_uri": "https://localhost:8080/"
        },
        "id": "nbtO9pY0qBaB",
        "outputId": "358e60fe-b32d-4a58-e923-c95df24e179a"
      },
      "execution_count": 27,
      "outputs": [
        {
          "output_type": "stream",
          "name": "stdout",
          "text": [
            "CPU times: user 19.6 s, sys: 2.2 s, total: 21.8 s\n",
            "Wall time: 22.2 s\n"
          ]
        }
      ]
    },
    {
      "cell_type": "code",
      "source": [
        "!wget -P /root/input/ -c \"https://s3.amazonaws.com/fast-ai-nlp/yelp_review_polarity_csv.tgz\""
      ],
      "metadata": {
        "colab": {
          "base_uri": "https://localhost:8080/"
        },
        "id": "ydlmE0q-qJcB",
        "outputId": "78ba463f-03a7-458a-9074-064a8a5f5698"
      },
      "execution_count": 28,
      "outputs": [
        {
          "output_type": "stream",
          "name": "stdout",
          "text": [
            "--2023-08-18 08:00:06--  https://s3.amazonaws.com/fast-ai-nlp/yelp_review_polarity_csv.tgz\n",
            "Resolving s3.amazonaws.com (s3.amazonaws.com)... 52.217.78.214, 52.217.10.126, 52.216.131.189, ...\n",
            "Connecting to s3.amazonaws.com (s3.amazonaws.com)|52.217.78.214|:443... connected.\n",
            "HTTP request sent, awaiting response... 200 OK\n",
            "Length: 166373201 (159M) [application/x-tar]\n",
            "Saving to: ‘/root/input/yelp_review_polarity_csv.tgz’\n",
            "\n",
            "yelp_review_polarit 100%[===================>] 158.67M  14.6MB/s    in 12s     \n",
            "\n",
            "2023-08-18 08:00:19 (13.5 MB/s) - ‘/root/input/yelp_review_polarity_csv.tgz’ saved [166373201/166373201]\n",
            "\n"
          ]
        }
      ]
    },
    {
      "cell_type": "code",
      "source": [
        "!tar xvzf /root/input/yelp_review_polarity_csv.tgz\n",
        "\n",
        "# Show current working directory.\n",
        "!pwd"
      ],
      "metadata": {
        "colab": {
          "base_uri": "https://localhost:8080/"
        },
        "id": "pP3ZwlKeqq06",
        "outputId": "a5af7ca6-51a1-4f22-894a-6d61445f849c"
      },
      "execution_count": 29,
      "outputs": [
        {
          "output_type": "stream",
          "name": "stdout",
          "text": [
            "yelp_review_polarity_csv/\n",
            "yelp_review_polarity_csv/train.csv\n",
            "yelp_review_polarity_csv/readme.txt\n",
            "yelp_review_polarity_csv/test.csv\n",
            "/content\n"
          ]
        }
      ]
    },
    {
      "cell_type": "code",
      "source": [
        "yelp_train = pd.read_csv('yelp_review_polarity_csv/train.csv', names=['sentiment', 'review'])\n",
        "print(yelp_train.shape)"
      ],
      "metadata": {
        "colab": {
          "base_uri": "https://localhost:8080/"
        },
        "id": "i9lyfbqkq2M_",
        "outputId": "ae1f5e12-f79d-4c65-b60d-f98f13449fa8"
      },
      "execution_count": 30,
      "outputs": [
        {
          "output_type": "stream",
          "name": "stdout",
          "text": [
            "(560000, 2)\n"
          ]
        }
      ]
    },
    {
      "cell_type": "code",
      "source": [
        "yelp_train.head()"
      ],
      "metadata": {
        "colab": {
          "base_uri": "https://localhost:8080/",
          "height": 206
        },
        "id": "T77G-IU5q4SQ",
        "outputId": "71e71e57-e1bb-47cb-d652-637fcf9801d4"
      },
      "execution_count": 31,
      "outputs": [
        {
          "output_type": "execute_result",
          "data": {
            "text/plain": [
              "   sentiment                                             review\n",
              "0          1  Unfortunately, the frustration of being Dr. Go...\n",
              "1          2  Been going to Dr. Goldberg for over 10 years. ...\n",
              "2          1  I don't know what Dr. Goldberg was like before...\n",
              "3          1  I'm writing this review to give you a heads up...\n",
              "4          2  All the food is great here. But the best thing..."
            ],
            "text/html": [
              "\n",
              "  <div id=\"df-3efc9846-b003-48b6-8fdc-7b08a58a8513\" class=\"colab-df-container\">\n",
              "    <div>\n",
              "<style scoped>\n",
              "    .dataframe tbody tr th:only-of-type {\n",
              "        vertical-align: middle;\n",
              "    }\n",
              "\n",
              "    .dataframe tbody tr th {\n",
              "        vertical-align: top;\n",
              "    }\n",
              "\n",
              "    .dataframe thead th {\n",
              "        text-align: right;\n",
              "    }\n",
              "</style>\n",
              "<table border=\"1\" class=\"dataframe\">\n",
              "  <thead>\n",
              "    <tr style=\"text-align: right;\">\n",
              "      <th></th>\n",
              "      <th>sentiment</th>\n",
              "      <th>review</th>\n",
              "    </tr>\n",
              "  </thead>\n",
              "  <tbody>\n",
              "    <tr>\n",
              "      <th>0</th>\n",
              "      <td>1</td>\n",
              "      <td>Unfortunately, the frustration of being Dr. Go...</td>\n",
              "    </tr>\n",
              "    <tr>\n",
              "      <th>1</th>\n",
              "      <td>2</td>\n",
              "      <td>Been going to Dr. Goldberg for over 10 years. ...</td>\n",
              "    </tr>\n",
              "    <tr>\n",
              "      <th>2</th>\n",
              "      <td>1</td>\n",
              "      <td>I don't know what Dr. Goldberg was like before...</td>\n",
              "    </tr>\n",
              "    <tr>\n",
              "      <th>3</th>\n",
              "      <td>1</td>\n",
              "      <td>I'm writing this review to give you a heads up...</td>\n",
              "    </tr>\n",
              "    <tr>\n",
              "      <th>4</th>\n",
              "      <td>2</td>\n",
              "      <td>All the food is great here. But the best thing...</td>\n",
              "    </tr>\n",
              "  </tbody>\n",
              "</table>\n",
              "</div>\n",
              "    <div class=\"colab-df-buttons\">\n",
              "\n",
              "  <div class=\"colab-df-container\">\n",
              "    <button class=\"colab-df-convert\" onclick=\"convertToInteractive('df-3efc9846-b003-48b6-8fdc-7b08a58a8513')\"\n",
              "            title=\"Convert this dataframe to an interactive table.\"\n",
              "            style=\"display:none;\">\n",
              "\n",
              "  <svg xmlns=\"http://www.w3.org/2000/svg\" height=\"24px\" viewBox=\"0 -960 960 960\">\n",
              "    <path d=\"M120-120v-720h720v720H120Zm60-500h600v-160H180v160Zm220 220h160v-160H400v160Zm0 220h160v-160H400v160ZM180-400h160v-160H180v160Zm440 0h160v-160H620v160ZM180-180h160v-160H180v160Zm440 0h160v-160H620v160Z\"/>\n",
              "  </svg>\n",
              "    </button>\n",
              "\n",
              "  <style>\n",
              "    .colab-df-container {\n",
              "      display:flex;\n",
              "      gap: 12px;\n",
              "    }\n",
              "\n",
              "    .colab-df-convert {\n",
              "      background-color: #E8F0FE;\n",
              "      border: none;\n",
              "      border-radius: 50%;\n",
              "      cursor: pointer;\n",
              "      display: none;\n",
              "      fill: #1967D2;\n",
              "      height: 32px;\n",
              "      padding: 0 0 0 0;\n",
              "      width: 32px;\n",
              "    }\n",
              "\n",
              "    .colab-df-convert:hover {\n",
              "      background-color: #E2EBFA;\n",
              "      box-shadow: 0px 1px 2px rgba(60, 64, 67, 0.3), 0px 1px 3px 1px rgba(60, 64, 67, 0.15);\n",
              "      fill: #174EA6;\n",
              "    }\n",
              "\n",
              "    .colab-df-buttons div {\n",
              "      margin-bottom: 4px;\n",
              "    }\n",
              "\n",
              "    [theme=dark] .colab-df-convert {\n",
              "      background-color: #3B4455;\n",
              "      fill: #D2E3FC;\n",
              "    }\n",
              "\n",
              "    [theme=dark] .colab-df-convert:hover {\n",
              "      background-color: #434B5C;\n",
              "      box-shadow: 0px 1px 3px 1px rgba(0, 0, 0, 0.15);\n",
              "      filter: drop-shadow(0px 1px 2px rgba(0, 0, 0, 0.3));\n",
              "      fill: #FFFFFF;\n",
              "    }\n",
              "  </style>\n",
              "\n",
              "    <script>\n",
              "      const buttonEl =\n",
              "        document.querySelector('#df-3efc9846-b003-48b6-8fdc-7b08a58a8513 button.colab-df-convert');\n",
              "      buttonEl.style.display =\n",
              "        google.colab.kernel.accessAllowed ? 'block' : 'none';\n",
              "\n",
              "      async function convertToInteractive(key) {\n",
              "        const element = document.querySelector('#df-3efc9846-b003-48b6-8fdc-7b08a58a8513');\n",
              "        const dataTable =\n",
              "          await google.colab.kernel.invokeFunction('convertToInteractive',\n",
              "                                                    [key], {});\n",
              "        if (!dataTable) return;\n",
              "\n",
              "        const docLinkHtml = 'Like what you see? Visit the ' +\n",
              "          '<a target=\"_blank\" href=https://colab.research.google.com/notebooks/data_table.ipynb>data table notebook</a>'\n",
              "          + ' to learn more about interactive tables.';\n",
              "        element.innerHTML = '';\n",
              "        dataTable['output_type'] = 'display_data';\n",
              "        await google.colab.output.renderOutput(dataTable, element);\n",
              "        const docLink = document.createElement('div');\n",
              "        docLink.innerHTML = docLinkHtml;\n",
              "        element.appendChild(docLink);\n",
              "      }\n",
              "    </script>\n",
              "  </div>\n",
              "\n",
              "\n",
              "<div id=\"df-c55edb3d-3932-4333-9aeb-36918191c437\">\n",
              "  <button class=\"colab-df-quickchart\" onclick=\"quickchart('df-c55edb3d-3932-4333-9aeb-36918191c437')\"\n",
              "            title=\"Suggest charts.\"\n",
              "            style=\"display:none;\">\n",
              "\n",
              "<svg xmlns=\"http://www.w3.org/2000/svg\" height=\"24px\"viewBox=\"0 0 24 24\"\n",
              "     width=\"24px\">\n",
              "    <g>\n",
              "        <path d=\"M19 3H5c-1.1 0-2 .9-2 2v14c0 1.1.9 2 2 2h14c1.1 0 2-.9 2-2V5c0-1.1-.9-2-2-2zM9 17H7v-7h2v7zm4 0h-2V7h2v10zm4 0h-2v-4h2v4z\"/>\n",
              "    </g>\n",
              "</svg>\n",
              "  </button>\n",
              "\n",
              "<style>\n",
              "  .colab-df-quickchart {\n",
              "    background-color: #E8F0FE;\n",
              "    border: none;\n",
              "    border-radius: 50%;\n",
              "    cursor: pointer;\n",
              "    display: none;\n",
              "    fill: #1967D2;\n",
              "    height: 32px;\n",
              "    padding: 0 0 0 0;\n",
              "    width: 32px;\n",
              "  }\n",
              "\n",
              "  .colab-df-quickchart:hover {\n",
              "    background-color: #E2EBFA;\n",
              "    box-shadow: 0px 1px 2px rgba(60, 64, 67, 0.3), 0px 1px 3px 1px rgba(60, 64, 67, 0.15);\n",
              "    fill: #174EA6;\n",
              "  }\n",
              "\n",
              "  [theme=dark] .colab-df-quickchart {\n",
              "    background-color: #3B4455;\n",
              "    fill: #D2E3FC;\n",
              "  }\n",
              "\n",
              "  [theme=dark] .colab-df-quickchart:hover {\n",
              "    background-color: #434B5C;\n",
              "    box-shadow: 0px 1px 3px 1px rgba(0, 0, 0, 0.15);\n",
              "    filter: drop-shadow(0px 1px 2px rgba(0, 0, 0, 0.3));\n",
              "    fill: #FFFFFF;\n",
              "  }\n",
              "</style>\n",
              "\n",
              "  <script>\n",
              "    async function quickchart(key) {\n",
              "      const charts = await google.colab.kernel.invokeFunction(\n",
              "          'suggestCharts', [key], {});\n",
              "    }\n",
              "    (() => {\n",
              "      let quickchartButtonEl =\n",
              "        document.querySelector('#df-c55edb3d-3932-4333-9aeb-36918191c437 button');\n",
              "      quickchartButtonEl.style.display =\n",
              "        google.colab.kernel.accessAllowed ? 'block' : 'none';\n",
              "    })();\n",
              "  </script>\n",
              "</div>\n",
              "    </div>\n",
              "  </div>\n"
            ]
          },
          "metadata": {},
          "execution_count": 31
        }
      ]
    },
    {
      "cell_type": "code",
      "source": [
        "TRAIN_SIZE = 100000\n",
        "yelp_train = yelp_train.sample(frac=1, random_state=1)[:TRAIN_SIZE].copy()\n",
        "print(yelp_train.shape)"
      ],
      "metadata": {
        "colab": {
          "base_uri": "https://localhost:8080/"
        },
        "id": "GT0eN5ESq6xg",
        "outputId": "76a9e3a6-ff9b-48fc-f306-7a85b1838603"
      },
      "execution_count": 32,
      "outputs": [
        {
          "output_type": "stream",
          "name": "stdout",
          "text": [
            "(100000, 2)\n"
          ]
        }
      ]
    },
    {
      "cell_type": "code",
      "source": [
        "yelp_train['sentiment'].replace(to_replace=1, value=0, inplace=True)\n",
        "yelp_train['sentiment'].replace(to_replace=2, value=1, inplace=True)"
      ],
      "metadata": {
        "id": "konGAnuGq8wH"
      },
      "execution_count": 33,
      "outputs": []
    },
    {
      "cell_type": "code",
      "source": [
        "yelp_train.head()"
      ],
      "metadata": {
        "colab": {
          "base_uri": "https://localhost:8080/",
          "height": 206
        },
        "id": "j5JOwe2zq-no",
        "outputId": "7b21f24d-9ddb-4d1b-a405-db007f50e13d"
      },
      "execution_count": 34,
      "outputs": [
        {
          "output_type": "execute_result",
          "data": {
            "text/plain": [
              "        sentiment                                             review\n",
              "39658           1  omg, the grandma g's pizza with rosemary chick...\n",
              "330033          0  Microwaved food over over over seasoned gyro m...\n",
              "238898          0  While the food is good, the service leaves a l...\n",
              "453536          0  Called the Chandler PD about the sign spinner ...\n",
              "555973          1  Just took Ewok, my approx. 6 month old shih tz..."
            ],
            "text/html": [
              "\n",
              "  <div id=\"df-e9d6448d-ae1e-49f2-8f69-a17b3a98905c\" class=\"colab-df-container\">\n",
              "    <div>\n",
              "<style scoped>\n",
              "    .dataframe tbody tr th:only-of-type {\n",
              "        vertical-align: middle;\n",
              "    }\n",
              "\n",
              "    .dataframe tbody tr th {\n",
              "        vertical-align: top;\n",
              "    }\n",
              "\n",
              "    .dataframe thead th {\n",
              "        text-align: right;\n",
              "    }\n",
              "</style>\n",
              "<table border=\"1\" class=\"dataframe\">\n",
              "  <thead>\n",
              "    <tr style=\"text-align: right;\">\n",
              "      <th></th>\n",
              "      <th>sentiment</th>\n",
              "      <th>review</th>\n",
              "    </tr>\n",
              "  </thead>\n",
              "  <tbody>\n",
              "    <tr>\n",
              "      <th>39658</th>\n",
              "      <td>1</td>\n",
              "      <td>omg, the grandma g's pizza with rosemary chick...</td>\n",
              "    </tr>\n",
              "    <tr>\n",
              "      <th>330033</th>\n",
              "      <td>0</td>\n",
              "      <td>Microwaved food over over over seasoned gyro m...</td>\n",
              "    </tr>\n",
              "    <tr>\n",
              "      <th>238898</th>\n",
              "      <td>0</td>\n",
              "      <td>While the food is good, the service leaves a l...</td>\n",
              "    </tr>\n",
              "    <tr>\n",
              "      <th>453536</th>\n",
              "      <td>0</td>\n",
              "      <td>Called the Chandler PD about the sign spinner ...</td>\n",
              "    </tr>\n",
              "    <tr>\n",
              "      <th>555973</th>\n",
              "      <td>1</td>\n",
              "      <td>Just took Ewok, my approx. 6 month old shih tz...</td>\n",
              "    </tr>\n",
              "  </tbody>\n",
              "</table>\n",
              "</div>\n",
              "    <div class=\"colab-df-buttons\">\n",
              "\n",
              "  <div class=\"colab-df-container\">\n",
              "    <button class=\"colab-df-convert\" onclick=\"convertToInteractive('df-e9d6448d-ae1e-49f2-8f69-a17b3a98905c')\"\n",
              "            title=\"Convert this dataframe to an interactive table.\"\n",
              "            style=\"display:none;\">\n",
              "\n",
              "  <svg xmlns=\"http://www.w3.org/2000/svg\" height=\"24px\" viewBox=\"0 -960 960 960\">\n",
              "    <path d=\"M120-120v-720h720v720H120Zm60-500h600v-160H180v160Zm220 220h160v-160H400v160Zm0 220h160v-160H400v160ZM180-400h160v-160H180v160Zm440 0h160v-160H620v160ZM180-180h160v-160H180v160Zm440 0h160v-160H620v160Z\"/>\n",
              "  </svg>\n",
              "    </button>\n",
              "\n",
              "  <style>\n",
              "    .colab-df-container {\n",
              "      display:flex;\n",
              "      gap: 12px;\n",
              "    }\n",
              "\n",
              "    .colab-df-convert {\n",
              "      background-color: #E8F0FE;\n",
              "      border: none;\n",
              "      border-radius: 50%;\n",
              "      cursor: pointer;\n",
              "      display: none;\n",
              "      fill: #1967D2;\n",
              "      height: 32px;\n",
              "      padding: 0 0 0 0;\n",
              "      width: 32px;\n",
              "    }\n",
              "\n",
              "    .colab-df-convert:hover {\n",
              "      background-color: #E2EBFA;\n",
              "      box-shadow: 0px 1px 2px rgba(60, 64, 67, 0.3), 0px 1px 3px 1px rgba(60, 64, 67, 0.15);\n",
              "      fill: #174EA6;\n",
              "    }\n",
              "\n",
              "    .colab-df-buttons div {\n",
              "      margin-bottom: 4px;\n",
              "    }\n",
              "\n",
              "    [theme=dark] .colab-df-convert {\n",
              "      background-color: #3B4455;\n",
              "      fill: #D2E3FC;\n",
              "    }\n",
              "\n",
              "    [theme=dark] .colab-df-convert:hover {\n",
              "      background-color: #434B5C;\n",
              "      box-shadow: 0px 1px 3px 1px rgba(0, 0, 0, 0.15);\n",
              "      filter: drop-shadow(0px 1px 2px rgba(0, 0, 0, 0.3));\n",
              "      fill: #FFFFFF;\n",
              "    }\n",
              "  </style>\n",
              "\n",
              "    <script>\n",
              "      const buttonEl =\n",
              "        document.querySelector('#df-e9d6448d-ae1e-49f2-8f69-a17b3a98905c button.colab-df-convert');\n",
              "      buttonEl.style.display =\n",
              "        google.colab.kernel.accessAllowed ? 'block' : 'none';\n",
              "\n",
              "      async function convertToInteractive(key) {\n",
              "        const element = document.querySelector('#df-e9d6448d-ae1e-49f2-8f69-a17b3a98905c');\n",
              "        const dataTable =\n",
              "          await google.colab.kernel.invokeFunction('convertToInteractive',\n",
              "                                                    [key], {});\n",
              "        if (!dataTable) return;\n",
              "\n",
              "        const docLinkHtml = 'Like what you see? Visit the ' +\n",
              "          '<a target=\"_blank\" href=https://colab.research.google.com/notebooks/data_table.ipynb>data table notebook</a>'\n",
              "          + ' to learn more about interactive tables.';\n",
              "        element.innerHTML = '';\n",
              "        dataTable['output_type'] = 'display_data';\n",
              "        await google.colab.output.renderOutput(dataTable, element);\n",
              "        const docLink = document.createElement('div');\n",
              "        docLink.innerHTML = docLinkHtml;\n",
              "        element.appendChild(docLink);\n",
              "      }\n",
              "    </script>\n",
              "  </div>\n",
              "\n",
              "\n",
              "<div id=\"df-8e32d0fb-d1fc-45c2-b0d4-b5d09ff44df0\">\n",
              "  <button class=\"colab-df-quickchart\" onclick=\"quickchart('df-8e32d0fb-d1fc-45c2-b0d4-b5d09ff44df0')\"\n",
              "            title=\"Suggest charts.\"\n",
              "            style=\"display:none;\">\n",
              "\n",
              "<svg xmlns=\"http://www.w3.org/2000/svg\" height=\"24px\"viewBox=\"0 0 24 24\"\n",
              "     width=\"24px\">\n",
              "    <g>\n",
              "        <path d=\"M19 3H5c-1.1 0-2 .9-2 2v14c0 1.1.9 2 2 2h14c1.1 0 2-.9 2-2V5c0-1.1-.9-2-2-2zM9 17H7v-7h2v7zm4 0h-2V7h2v10zm4 0h-2v-4h2v4z\"/>\n",
              "    </g>\n",
              "</svg>\n",
              "  </button>\n",
              "\n",
              "<style>\n",
              "  .colab-df-quickchart {\n",
              "    background-color: #E8F0FE;\n",
              "    border: none;\n",
              "    border-radius: 50%;\n",
              "    cursor: pointer;\n",
              "    display: none;\n",
              "    fill: #1967D2;\n",
              "    height: 32px;\n",
              "    padding: 0 0 0 0;\n",
              "    width: 32px;\n",
              "  }\n",
              "\n",
              "  .colab-df-quickchart:hover {\n",
              "    background-color: #E2EBFA;\n",
              "    box-shadow: 0px 1px 2px rgba(60, 64, 67, 0.3), 0px 1px 3px 1px rgba(60, 64, 67, 0.15);\n",
              "    fill: #174EA6;\n",
              "  }\n",
              "\n",
              "  [theme=dark] .colab-df-quickchart {\n",
              "    background-color: #3B4455;\n",
              "    fill: #D2E3FC;\n",
              "  }\n",
              "\n",
              "  [theme=dark] .colab-df-quickchart:hover {\n",
              "    background-color: #434B5C;\n",
              "    box-shadow: 0px 1px 3px 1px rgba(0, 0, 0, 0.15);\n",
              "    filter: drop-shadow(0px 1px 2px rgba(0, 0, 0, 0.3));\n",
              "    fill: #FFFFFF;\n",
              "  }\n",
              "</style>\n",
              "\n",
              "  <script>\n",
              "    async function quickchart(key) {\n",
              "      const charts = await google.colab.kernel.invokeFunction(\n",
              "          'suggestCharts', [key], {});\n",
              "    }\n",
              "    (() => {\n",
              "      let quickchartButtonEl =\n",
              "        document.querySelector('#df-8e32d0fb-d1fc-45c2-b0d4-b5d09ff44df0 button');\n",
              "      quickchartButtonEl.style.display =\n",
              "        google.colab.kernel.accessAllowed ? 'block' : 'none';\n",
              "    })();\n",
              "  </script>\n",
              "</div>\n",
              "    </div>\n",
              "  </div>\n"
            ]
          },
          "metadata": {},
          "execution_count": 34
        }
      ]
    },
    {
      "cell_type": "code",
      "source": [
        "yelp_train_split, yelp_val_split = train_test_split(yelp_train, train_size=0.85, random_state=1)"
      ],
      "metadata": {
        "id": "vP62r0ZYrAMg"
      },
      "execution_count": 35,
      "outputs": []
    },
    {
      "cell_type": "code",
      "source": [
        "# Set up training data.\n",
        "train_reviews = yelp_train_split['review']\n",
        "y_train = np.array(yelp_train_split['sentiment'])\n",
        "\n",
        "# Set up validation data.\n",
        "val_reviews = yelp_val_split['review']\n",
        "y_val = np.array(yelp_val_split['sentiment'])"
      ],
      "metadata": {
        "id": "KMyyCbmNrCRf"
      },
      "execution_count": 36,
      "outputs": []
    },
    {
      "cell_type": "code",
      "source": [
        "collections.Counter(y_train)"
      ],
      "metadata": {
        "colab": {
          "base_uri": "https://localhost:8080/"
        },
        "id": "pwFwE_norEEv",
        "outputId": "7180e65c-f614-47e1-f6b6-bedcda1072ae"
      },
      "execution_count": 37,
      "outputs": [
        {
          "output_type": "execute_result",
          "data": {
            "text/plain": [
              "Counter({0: 42395, 1: 42605})"
            ]
          },
          "metadata": {},
          "execution_count": 37
        }
      ]
    },
    {
      "cell_type": "code",
      "source": [
        "tokenizer = keras.preprocessing.text.Tokenizer(num_words=20000,\n",
        "                                               filters='0123456789!\"#$%&()*+,-./:;<=>?@[\\]^_`{|}~',\n",
        "                                               lower=True)"
      ],
      "metadata": {
        "id": "qsPeyB74rF7g"
      },
      "execution_count": 38,
      "outputs": []
    },
    {
      "cell_type": "code",
      "source": [
        "%%time\n",
        "tokenizer.fit_on_texts(train_reviews)"
      ],
      "metadata": {
        "colab": {
          "base_uri": "https://localhost:8080/"
        },
        "id": "7jaLkFEOrH9h",
        "outputId": "3fc4ecf7-0168-483b-89e9-71ed1aed8d07"
      },
      "execution_count": 39,
      "outputs": [
        {
          "output_type": "stream",
          "name": "stdout",
          "text": [
            "CPU times: user 9.84 s, sys: 45 ms, total: 9.88 s\n",
            "Wall time: 9.95 s\n"
          ]
        }
      ]
    },
    {
      "cell_type": "code",
      "source": [
        "%%time\n",
        "X_train = tokenizer.texts_to_sequences(train_reviews)"
      ],
      "metadata": {
        "colab": {
          "base_uri": "https://localhost:8080/"
        },
        "id": "UTNLMVBHrMNa",
        "outputId": "5d8c06d5-12aa-4620-a1ad-a0b0f8704f93"
      },
      "execution_count": 40,
      "outputs": [
        {
          "output_type": "stream",
          "name": "stdout",
          "text": [
            "CPU times: user 6.18 s, sys: 72.2 ms, total: 6.25 s\n",
            "Wall time: 7.1 s\n"
          ]
        }
      ]
    },
    {
      "cell_type": "code",
      "source": [
        "# The first review in the training set, vectorized.\n",
        "print(X_train[0])"
      ],
      "metadata": {
        "colab": {
          "base_uri": "https://localhost:8080/"
        },
        "id": "i9aCmlDyrPK4",
        "outputId": "48426122-96de-4f75-b347-086b0843341a"
      },
      "execution_count": 41,
      "outputs": [
        {
          "output_type": "stream",
          "name": "stdout",
          "text": [
            "[49, 14, 2224, 4199, 1981, 11, 2312, 16, 6, 59, 3042, 138, 5, 145, 1, 294, 1, 378, 370, 7, 8, 37, 6, 1, 120, 944, 16362, 1026, 33, 3014, 21, 1170, 12144, 3036, 1427, 5513, 56, 3214, 2, 106, 5514, 136, 886, 1, 2224, 268, 3, 90, 22, 1278, 944, 16362, 51, 183, 36, 60, 107, 3214, 9, 14, 795, 26, 351, 3, 148, 5, 150, 107, 65, 12, 47, 74, 1966, 1935, 42, 7, 1, 132, 5352, 24, 1918, 36, 5481, 21, 1, 11637, 1378, 1116, 6722, 13, 64, 262, 19603, 2, 312, 4, 1253, 3278, 5, 14, 362, 116, 6, 10, 1, 128, 271, 137, 2100, 7, 16, 14, 362, 2, 3, 148, 4, 156, 1694, 1047, 17, 147, 86, 323, 598, 1, 1103, 207, 1055, 51, 544, 783, 21, 1, 3872, 15, 26, 147, 17728, 2, 27, 148, 39, 15, 102, 993, 18, 1, 1364, 55, 1, 6722, 5481, 2, 60, 39, 249, 102, 30, 282, 8, 161, 4, 43, 189, 46, 9, 944, 16362, 5, 1338, 65, 10, 674, 3, 102, 598, 2, 47, 64, 90, 279, 48, 64, 86, 124, 174, 1, 128, 18, 4, 545, 303, 1072, 13078, 12751, 17, 18, 1, 766, 13, 14, 362, 2, 3, 24, 282, 172, 360, 10, 815, 9, 107, 3, 78, 113, 39, 1, 5352, 24, 68, 4628, 51, 2968, 13, 15, 86, 598, 1, 1103, 2, 99, 79, 944, 16362, 888, 48, 288, 1, 2348, 10, 65, 19, 5274, 41, 1317, 5, 150, 1, 1364, 17, 47, 944, 16362, 299, 90, 1338, 15, 26, 137, 5, 240, 38, 1453, 116, 24, 282, 172, 360, 2, 26, 165, 10, 1966, 9, 8, 32, 6, 57, 889, 8276, 57, 12145, 35, 5, 118, 3, 6, 792, 22, 73, 4, 1318, 40, 4, 18584, 64, 148, 238, 38, 20, 1559, 59, 9752, 6722, 12, 13, 1388, 2, 47, 15, 215, 5, 1243, 64, 6032, 6723, 107, 2636, 2, 6842, 12, 13, 1388, 15, 975, 13, 10, 489, 57, 8, 6, 22, 1388, 42, 7, 1, 5352, 24, 628, 5, 561, 1, 6722, 9, 14, 104, 5, 150, 1512, 13, 24, 134, 4343, 21, 1, 6722, 2, 13, 12, 60, 15, 24, 4273, 15, 26, 565, 2, 1290, 5, 2193, 5, 59, 9752, 6722, 39, 1, 448, 18585, 944, 16362, 99, 14, 362, 9, 73, 222, 25, 1, 6722, 3344, 10, 7655, 7, 1, 489, 13, 8, 6, 42, 7, 1, 5352, 116, 2663, 399, 175, 845, 5, 8, 944, 16362, 137, 8, 1096, 5, 67, 13, 1, 9595, 28, 22, 9, 20, 1, 1737, 5, 655, 20, 78, 113, 118, 5, 655, 77, 8, 817, 266, 7, 1462, 5, 1916, 118, 5, 655, 250, 9595, 1462, 20, 78, 23, 2, 73, 39, 20, 26, 2956, 19, 53, 147, 30, 1248, 5, 655, 3, 547, 718, 7, 250, 515, 24, 9595, 544, 2, 271, 15, 79, 533, 13, 15755, 944, 16362, 137, 8, 540, 35, 194, 15, 24, 15756, 1, 5352, 65, 25, 13, 401, 15, 1266, 8080, 67, 13, 1, 5352, 28, 94, 2956, 6407, 2, 113, 103, 74, 55, 250, 238, 100, 20, 82, 2, 64, 106, 37, 16, 10, 270, 7, 77, 10, 1, 209, 450, 2901, 15, 975, 13, 13, 6, 91, 4, 971, 10, 1490, 13, 15, 91, 15756, 56, 37, 15, 26, 1254, 9, 6, 69, 14728, 10, 4, 1103, 399, 5, 41, 845, 75, 1, 5352, 2, 137, 36, 5, 30, 42, 9, 10065, 2833, 35, 4, 1737, 3, 141, 3, 23, 1, 144, 5, 269, 1047, 2, 1317, 5, 150, 4, 1364, 3, 24, 1, 1875, 944, 16362, 6, 21, 1, 7085, 1, 579, 46, 2, 60, 137, 238, 74, 9, 33, 6, 1, 489, 13, 64, 260, 5, 1711, 8, 37, 48, 18, 4, 302, 7, 11886, 271, 64, 918, 820, 1152, 67, 108, 944, 16362, 260, 5, 361, 107, 281, 18, 60, 407, 38, 4, 12752, 51, 7, 14, 5784, 5, 150, 107, 35, 64, 6, 286, 565, 5, 383, 36, 7, 1, 128, 944, 16362, 24, 4, 1283, 9061, 18, 2855, 815, 191, 3, 145, 8, 280, 3, 1513, 145, 8, 363, 40, 145, 8, 72, 235, 1, 302, 7, 352, 3, 117, 99, 64, 264, 33, 1151, 10, 1, 869, 2, 106, 233, 115, 5, 23, 4, 1037, 957, 2, 356, 36, 184, 267, 13, 24, 576, 21, 13, 132, 73, 47, 944, 16362, 102, 22, 141, 7, 1, 238, 64, 6, 5990, 5, 2, 24, 5, 30, 1743, 7, 75, 1, 5352, 184, 267, 64, 24, 106, 28, 238, 3, 278, 102, 23, 2902, 17, 22, 13, 22, 10, 4, 31, 3, 24, 68, 2489, 3, 102, 494, 8000, 49, 3, 24, 91, 538, 6781, 136, 2, 3, 6, 22, 828, 9, 1, 13837, 7, 3942, 3, 6, 142, 49, 1, 46, 3, 24, 419, 25, 1, 2224, 5, 121, 2, 2019, 5, 429, 238, 694, 17, 118, 102, 477, 2019, 80, 169, 1026, 38, 13, 1, 7, 3442, 28, 1248, 227, 10, 1427, 17, 80, 376, 59, 5112, 18, 944, 16362, 3, 6, 531, 5381, 36, 55, 169, 4867, 5, 10, 376, 4, 120, 2, 37, 3, 102, 99, 141, 55, 6, 1, 15231, 7, 3942, 64, 161, 226, 14, 803, 9, 4, 893, 2, 3308, 33, 27, 103, 15232, 13, 3, 531, 48, 9, 1, 615, 7, 60, 53, 147, 30, 4, 43, 189, 3442, 107, 1882, 7, 33, 6, 10, 69, 2132, 74, 18586, 100, 1, 3942, 674, 53, 442, 244, 39, 1055]\n"
          ]
        }
      ]
    },
    {
      "cell_type": "code",
      "source": [
        "[tokenizer.index_word[x] for x in X_train[0][:3]]"
      ],
      "metadata": {
        "colab": {
          "base_uri": "https://localhost:8080/"
        },
        "id": "eYB-mffxrRYr",
        "outputId": "b07fb104-4e59-4a66-cd20-6ca2e99990b1"
      },
      "execution_count": 42,
      "outputs": [
        {
          "output_type": "execute_result",
          "data": {
            "text/plain": [
              "['from', 'my', 'hospital']"
            ]
          },
          "metadata": {},
          "execution_count": 42
        }
      ]
    },
    {
      "cell_type": "code",
      "source": [
        "# Review excerpt reconstructed from integer sequence.\n",
        "tokenizer.sequences_to_texts([X_train[0]])[0][:300]"
      ],
      "metadata": {
        "colab": {
          "base_uri": "https://localhost:8080/",
          "height": 52
        },
        "id": "fGS3ehcPrTMY",
        "outputId": "a47b88db-8c3f-4bce-d640-8f7fd7ad776c"
      },
      "execution_count": 43,
      "outputs": [
        {
          "output_type": "execute_result",
          "data": {
            "text/plain": [
              "'from my hospital feedback form n nwhile this was an unpleasant experience to say the least the worst part of it all was the way dr haslett treated me doctors on previous shifts introduced themselves discussed their plans and said goodbye before leaving the hospital however i did not meet dr haslett '"
            ],
            "application/vnd.google.colaboratory.intrinsic+json": {
              "type": "string"
            }
          },
          "metadata": {},
          "execution_count": 43
        }
      ]
    },
    {
      "cell_type": "code",
      "source": [
        "# Original review text.\n",
        "train_reviews.iloc[0][:300]"
      ],
      "metadata": {
        "colab": {
          "base_uri": "https://localhost:8080/",
          "height": 52
        },
        "id": "E1uWRF5ArVlQ",
        "outputId": "20ba658d-6bc2-4f1f-a319-279cb26148a0"
      },
      "execution_count": 44,
      "outputs": [
        {
          "output_type": "execute_result",
          "data": {
            "text/plain": [
              "'From my hospital feedback form:\\\\n\\\\nWhile this was an unpleasant experience to say the least, the worst part of it all was the way Dr. Haslett treated me.  Doctors on previous shifts introduced themselves, discussed their plans and said goodbye before leaving the hospital.  However, I did not meet Dr'"
            ],
            "application/vnd.google.colaboratory.intrinsic+json": {
              "type": "string"
            }
          },
          "metadata": {},
          "execution_count": 44
        }
      ]
    },
    {
      "cell_type": "code",
      "source": [
        "MAX_REVIEW_LEN = 200\n",
        "X_train = keras.preprocessing.sequence.pad_sequences(X_train, maxlen=MAX_REVIEW_LEN)"
      ],
      "metadata": {
        "id": "yVMnpNzmrb9I"
      },
      "execution_count": 45,
      "outputs": []
    },
    {
      "cell_type": "code",
      "source": [
        "print(X_train[0])\n",
        "print(X_train[1])"
      ],
      "metadata": {
        "colab": {
          "base_uri": "https://localhost:8080/"
        },
        "id": "mTfbVh0zrdpY",
        "outputId": "dd88fceb-4e79-475e-fc60-2768f6761faa"
      },
      "execution_count": 46,
      "outputs": [
        {
          "output_type": "stream",
          "name": "stdout",
          "text": [
            "[ 1037   957     2   356    36   184   267    13    24   576    21    13\n",
            "   132    73    47   944 16362   102    22   141     7     1   238    64\n",
            "     6  5990     5     2    24     5    30  1743     7    75     1  5352\n",
            "   184   267    64    24   106    28   238     3   278   102    23  2902\n",
            "    17    22    13    22    10     4    31     3    24    68  2489     3\n",
            "   102   494  8000    49     3    24    91   538  6781   136     2     3\n",
            "     6    22   828     9     1 13837     7  3942     3     6   142    49\n",
            "     1    46     3    24   419    25     1  2224     5   121     2  2019\n",
            "     5   429   238   694    17   118   102   477  2019    80   169  1026\n",
            "    38    13     1     7  3442    28  1248   227    10  1427    17    80\n",
            "   376    59  5112    18   944 16362     3     6   531  5381    36    55\n",
            "   169  4867     5    10   376     4   120     2    37     3   102    99\n",
            "   141    55     6     1 15231     7  3942    64   161   226    14   803\n",
            "     9     4   893     2  3308    33    27   103 15232    13     3   531\n",
            "    48     9     1   615     7    60    53   147    30     4    43   189\n",
            "  3442   107  1882     7    33     6    10    69  2132    74 18586   100\n",
            "     1  3942   674    53   442   244    39  1055]\n",
            "[    0     0     0     0     0     0     0     0     0     0     0     0\n",
            "     0     0     0     0     0     0     0     0     0     0     0     0\n",
            "     0     0     0     0     0     0     0     0     0     0     0     0\n",
            "     0     0     0     0     0     0     0     0     0     0     0     0\n",
            "     0     0     0     0     0     0     0     0     0     0     0     0\n",
            "     0     0     0     0     0     0     0     0     0     0     0     0\n",
            "     0     0     0     0     0     0     0     0     0     0     0     0\n",
            "     0     0     0     0     0     0     0     0     0     0     0     0\n",
            "     0     0     0     0     0     0     0     0     0     0     0     0\n",
            "     0     0     0     0     0     0     0     0     0     0     0     0\n",
            "     0     0     0     0     0     0     0     0     0     0     0     0\n",
            "     0     0     0     0     0     0     0     0     0     0     0     0\n",
            "     0     0     0     0     0     0     0     0     0     0     0     0\n",
            "     0     0     0     0     0     0     0     0     0     0     0     0\n",
            "     0     0     0     0     0     0     0    38    16    31  2281    17\n",
            "     3   141     1   133   619     5  5785     2     1  1955     4   208\n",
            "   855  1465     1   539 11887    26   122  1351]\n"
          ]
        }
      ]
    },
    {
      "cell_type": "code",
      "source": [
        "X_val = tokenizer.texts_to_sequences(val_reviews)\n",
        "X_val = keras.preprocessing.sequence.pad_sequences(X_val, maxlen=MAX_REVIEW_LEN)"
      ],
      "metadata": {
        "id": "BTbwIVqGrfTn"
      },
      "execution_count": 47,
      "outputs": []
    },
    {
      "cell_type": "code",
      "source": [
        "print(tokenizer.word_index['good'])"
      ],
      "metadata": {
        "colab": {
          "base_uri": "https://localhost:8080/"
        },
        "id": "U8YL_1Tirg8R",
        "outputId": "4eec6885-8f74-424f-ca98-1947a0ff8eac"
      },
      "execution_count": 48,
      "outputs": [
        {
          "output_type": "stream",
          "name": "stdout",
          "text": [
            "34\n"
          ]
        }
      ]
    },
    {
      "cell_type": "code",
      "source": [
        "# Part of the vector for the word 'good'.\n",
        "print(word_vectors['good'][:50])"
      ],
      "metadata": {
        "colab": {
          "base_uri": "https://localhost:8080/"
        },
        "id": "WgspEbLCriO3",
        "outputId": "dac562ed-4ce0-4694-9142-91de29b145dd"
      },
      "execution_count": 49,
      "outputs": [
        {
          "output_type": "stream",
          "name": "stdout",
          "text": [
            "[ 0.04052734  0.0625     -0.01745605  0.07861328  0.03271484 -0.01263428\n",
            "  0.00964355  0.12353516 -0.02148438  0.15234375 -0.05834961 -0.10644531\n",
            "  0.02124023  0.13574219 -0.13183594  0.17675781  0.27148438  0.13769531\n",
            " -0.17382812 -0.14160156 -0.03076172  0.19628906 -0.03295898  0.125\n",
            "  0.25390625  0.12695312 -0.15234375  0.03198242  0.01135254 -0.01361084\n",
            " -0.12890625  0.01019287  0.23925781 -0.08447266  0.140625    0.13085938\n",
            " -0.04516602  0.06494141  0.02539062  0.05615234  0.24609375 -0.20507812\n",
            "  0.23632812 -0.00860596 -0.02294922  0.05078125  0.10644531 -0.03564453\n",
            "  0.08740234 -0.05712891]\n"
          ]
        }
      ]
    },
    {
      "cell_type": "code",
      "source": [
        "# + 1 to account for padding token.\n",
        "num_tokens = len(tokenizer.word_index) + 1\n",
        "\n",
        "# Initialize a matrix of zeroes of size: vocabulary x embedding dimension.\n",
        "embedding_dim = 300\n",
        "embedding_matrix = np.zeros((num_tokens, embedding_dim))\n",
        "\n",
        "for word, i in tokenizer.word_index.items():\n",
        "  if word_vectors.has_index_for(word):\n",
        "    embedding_matrix[i] = word_vectors[word].copy()"
      ],
      "metadata": {
        "id": "HpaYrJvarkGR"
      },
      "execution_count": 50,
      "outputs": []
    },
    {
      "cell_type": "code",
      "source": [
        "# Quick visual check.\n",
        "print(embedding_matrix[tokenizer.word_index['good']][:50])"
      ],
      "metadata": {
        "colab": {
          "base_uri": "https://localhost:8080/"
        },
        "id": "hvxbKeCXrmEY",
        "outputId": "6ed0693b-0313-40f8-9101-6a0834c3eaee"
      },
      "execution_count": 51,
      "outputs": [
        {
          "output_type": "stream",
          "name": "stdout",
          "text": [
            "[ 0.04052734  0.0625     -0.01745605  0.07861328  0.03271484 -0.01263428\n",
            "  0.00964355  0.12353516 -0.02148438  0.15234375 -0.05834961 -0.10644531\n",
            "  0.02124023  0.13574219 -0.13183594  0.17675781  0.27148438  0.13769531\n",
            " -0.17382812 -0.14160156 -0.03076172  0.19628906 -0.03295898  0.125\n",
            "  0.25390625  0.12695312 -0.15234375  0.03198242  0.01135254 -0.01361084\n",
            " -0.12890625  0.01019287  0.23925781 -0.08447266  0.140625    0.13085938\n",
            " -0.04516602  0.06494141  0.02539062  0.05615234  0.24609375 -0.20507812\n",
            "  0.23632812 -0.00860596 -0.02294922  0.05078125  0.10644531 -0.03564453\n",
            "  0.08740234 -0.05712891]\n"
          ]
        }
      ]
    },
    {
      "cell_type": "code",
      "source": [
        "embedding_layer = layers.Embedding(\n",
        "    num_tokens,\n",
        "    embedding_dim,\n",
        "    embeddings_initializer=keras.initializers.Constant(embedding_matrix),\n",
        "    input_length=MAX_REVIEW_LEN,\n",
        "    trainable=True\n",
        ")"
      ],
      "metadata": {
        "id": "SDeA1ACKrn3y"
      },
      "execution_count": 52,
      "outputs": []
    },
    {
      "cell_type": "code",
      "source": [
        "tf.random.set_seed(0)\n",
        "\n",
        "model = keras.Sequential()\n",
        "\n",
        "# This layer will output a sequence of 300-dimension *vectors*, one for each element in the input sequence.\n",
        "model.add(embedding_layer)\n",
        "\n",
        "# This layer will calculate an average of those vectors.\n",
        "model.add(layers.GlobalAveragePooling1D())\n",
        "\n",
        "model.add(layers.Dense(128, activation='relu', kernel_initializer=tf.keras.initializers.random_normal(seed=1)))\n",
        "model.add(layers.Dense(64, activation='relu', kernel_initializer=tf.keras.initializers.random_normal(seed=1)))\n",
        "model.add(layers.Dense(1, activation='sigmoid', kernel_initializer=tf.keras.initializers.random_normal(seed=1)))\n",
        "\n",
        "model.compile(optimizer='adam',\n",
        "              loss='binary_crossentropy',\n",
        "              metrics=['accuracy'])"
      ],
      "metadata": {
        "id": "nAUBjaUprq_I"
      },
      "execution_count": 53,
      "outputs": []
    },
    {
      "cell_type": "code",
      "source": [
        "review = \"fantastic papaya steak\"\n",
        "print(f\"Review: {review}\")\n",
        "\n",
        "review_sequence = tokenizer.texts_to_sequences([review])\n",
        "print(f\"Review as sequence of integers: {review_sequence}\")\n",
        "\n",
        "review_embeddings = embedding_layer(np.array(review_sequence))\n",
        "print(f\"Review embeddings shape: (Batch size: {review_embeddings.shape[0]}, \\\n",
        "Sequence length: {review_embeddings.shape[1]}, \\\n",
        "Embedding size: {review_embeddings.shape[2]})\")\n",
        "\n",
        "# How our document will be presented to the rest of the neural network.\n",
        "print(f\"Average of embeddings (shape): {np.mean(review_embeddings, axis=1).shape}\")"
      ],
      "metadata": {
        "colab": {
          "base_uri": "https://localhost:8080/"
        },
        "id": "09tZFYRCrtyA",
        "outputId": "09a82891-0c8b-4c15-91cd-eb9283dc4eaa"
      },
      "execution_count": 54,
      "outputs": [
        {
          "output_type": "stream",
          "name": "stdout",
          "text": [
            "Review: fantastic papaya steak\n",
            "Review as sequence of integers: [[543, 5844, 305]]\n",
            "Review embeddings shape: (Batch size: 1, Sequence length: 3, Embedding size: 300)\n",
            "Average of embeddings (shape): (1, 300)\n"
          ]
        }
      ]
    },
    {
      "cell_type": "code",
      "source": [
        "model.summary()"
      ],
      "metadata": {
        "colab": {
          "base_uri": "https://localhost:8080/"
        },
        "id": "Ne5N1bd6rxo2",
        "outputId": "ddd86583-a1e8-401a-eacf-8401cbca6d7a"
      },
      "execution_count": 55,
      "outputs": [
        {
          "output_type": "stream",
          "name": "stdout",
          "text": [
            "Model: \"sequential\"\n",
            "_________________________________________________________________\n",
            " Layer (type)                Output Shape              Param #   \n",
            "=================================================================\n",
            " embedding (Embedding)       (None, 200, 300)          28023900  \n",
            "                                                                 \n",
            " global_average_pooling1d (G  (None, 300)              0         \n",
            " lobalAveragePooling1D)                                          \n",
            "                                                                 \n",
            " dense (Dense)               (None, 128)               38528     \n",
            "                                                                 \n",
            " dense_1 (Dense)             (None, 64)                8256      \n",
            "                                                                 \n",
            " dense_2 (Dense)             (None, 1)                 65        \n",
            "                                                                 \n",
            "=================================================================\n",
            "Total params: 28,070,749\n",
            "Trainable params: 28,070,749\n",
            "Non-trainable params: 0\n",
            "_________________________________________________________________\n"
          ]
        }
      ]
    },
    {
      "cell_type": "code",
      "source": [
        "history = model.fit(X_train, y_train, epochs=20, batch_size=512, validation_data=(X_val, y_val))"
      ],
      "metadata": {
        "colab": {
          "base_uri": "https://localhost:8080/"
        },
        "id": "_YG9qyVnrzgH",
        "outputId": "3c1d7f75-172f-4757-8fcd-a143a5313517"
      },
      "execution_count": 56,
      "outputs": [
        {
          "output_type": "stream",
          "name": "stdout",
          "text": [
            "Epoch 1/20\n",
            "167/167 [==============================] - 147s 875ms/step - loss: 0.3999 - accuracy: 0.8132 - val_loss: 0.2296 - val_accuracy: 0.9147\n",
            "Epoch 2/20\n",
            "167/167 [==============================] - 138s 829ms/step - loss: 0.1889 - accuracy: 0.9301 - val_loss: 0.2057 - val_accuracy: 0.9221\n",
            "Epoch 3/20\n",
            "167/167 [==============================] - 137s 819ms/step - loss: 0.1547 - accuracy: 0.9436 - val_loss: 0.1999 - val_accuracy: 0.9230\n",
            "Epoch 4/20\n",
            "167/167 [==============================] - 141s 843ms/step - loss: 0.1328 - accuracy: 0.9527 - val_loss: 0.2147 - val_accuracy: 0.9190\n",
            "Epoch 5/20\n",
            "167/167 [==============================] - 136s 817ms/step - loss: 0.1216 - accuracy: 0.9574 - val_loss: 0.2244 - val_accuracy: 0.9179\n",
            "Epoch 6/20\n",
            "167/167 [==============================] - 150s 897ms/step - loss: 0.1123 - accuracy: 0.9612 - val_loss: 0.2272 - val_accuracy: 0.9192\n",
            "Epoch 7/20\n",
            "167/167 [==============================] - 141s 842ms/step - loss: 0.1038 - accuracy: 0.9645 - val_loss: 0.2365 - val_accuracy: 0.9173\n",
            "Epoch 8/20\n",
            "167/167 [==============================] - 140s 838ms/step - loss: 0.0953 - accuracy: 0.9683 - val_loss: 0.2613 - val_accuracy: 0.9125\n",
            "Epoch 9/20\n",
            "167/167 [==============================] - 141s 846ms/step - loss: 0.0892 - accuracy: 0.9698 - val_loss: 0.2765 - val_accuracy: 0.9103\n",
            "Epoch 10/20\n",
            "167/167 [==============================] - 152s 909ms/step - loss: 0.0812 - accuracy: 0.9737 - val_loss: 0.2783 - val_accuracy: 0.9103\n",
            "Epoch 11/20\n",
            "167/167 [==============================] - 141s 842ms/step - loss: 0.0760 - accuracy: 0.9754 - val_loss: 0.3466 - val_accuracy: 0.8971\n",
            "Epoch 12/20\n",
            "167/167 [==============================] - 140s 842ms/step - loss: 0.0773 - accuracy: 0.9739 - val_loss: 0.4586 - val_accuracy: 0.8642\n",
            "Epoch 13/20\n",
            "167/167 [==============================] - 139s 830ms/step - loss: 0.0814 - accuracy: 0.9729 - val_loss: 0.3176 - val_accuracy: 0.9096\n",
            "Epoch 14/20\n",
            "167/167 [==============================] - 155s 931ms/step - loss: 0.0646 - accuracy: 0.9797 - val_loss: 0.3328 - val_accuracy: 0.9073\n",
            "Epoch 15/20\n",
            "167/167 [==============================] - 140s 838ms/step - loss: 0.0703 - accuracy: 0.9760 - val_loss: 0.3566 - val_accuracy: 0.9043\n",
            "Epoch 16/20\n",
            "167/167 [==============================] - 143s 857ms/step - loss: 0.0588 - accuracy: 0.9809 - val_loss: 0.3575 - val_accuracy: 0.9081\n",
            "Epoch 17/20\n",
            "167/167 [==============================] - 140s 839ms/step - loss: 0.0539 - accuracy: 0.9819 - val_loss: 0.3896 - val_accuracy: 0.9042\n",
            "Epoch 18/20\n",
            "167/167 [==============================] - 156s 937ms/step - loss: 0.0482 - accuracy: 0.9843 - val_loss: 0.4920 - val_accuracy: 0.8876\n",
            "Epoch 19/20\n",
            "167/167 [==============================] - 140s 839ms/step - loss: 0.0481 - accuracy: 0.9836 - val_loss: 0.4683 - val_accuracy: 0.8972\n",
            "Epoch 20/20\n",
            "167/167 [==============================] - 141s 843ms/step - loss: 0.0472 - accuracy: 0.9829 - val_loss: 0.4748 - val_accuracy: 0.9049\n"
          ]
        }
      ]
    },
    {
      "cell_type": "code",
      "source": [
        "def plot_train_vs_val_performance(history):\n",
        "  training_losses = history.history['loss']\n",
        "  validation_losses = history.history['val_loss']\n",
        "\n",
        "  training_accuracy = history.history['accuracy']\n",
        "  validation_accuracy = history.history['val_accuracy']\n",
        "\n",
        "  epochs = range(1, len(training_losses) + 1)\n",
        "\n",
        "  import matplotlib.pyplot as plt\n",
        "  fig, (ax1, ax2) = plt.subplots(2)\n",
        "  fig.set_figheight(15)\n",
        "  fig.set_figwidth(15)\n",
        "  fig.tight_layout(pad=5.0)\n",
        "\n",
        "  # Plot training vs. validation loss.\n",
        "  ax1.plot(epochs, training_losses, 'bo', label='Training Loss')\n",
        "  ax1.plot(epochs, validation_losses, 'b', label='Validation Loss')\n",
        "  ax1.title.set_text('Training vs. Validation Loss')\n",
        "  ax1.set_xlabel('Epoch')\n",
        "  ax1.set_ylabel('Loss')\n",
        "  ax1.legend()\n",
        "\n",
        "  # PLot training vs. validation accuracy.\n",
        "  ax2.plot(epochs, training_accuracy, 'bo', label='Training Accuracy')\n",
        "  ax2.plot(epochs, validation_accuracy, 'b', label='Validation Accuracy')\n",
        "  ax2.title.set_text('Training vs. Validation Accuracy')\n",
        "  ax2.set_xlabel('Epoch')\n",
        "  ax2.set_ylabel('Accuracy')\n",
        "  ax2.legend()\n",
        "\n",
        "  plt.show()"
      ],
      "metadata": {
        "id": "7Eiyhr9hr2IX"
      },
      "execution_count": 57,
      "outputs": []
    },
    {
      "cell_type": "code",
      "source": [
        "plot_train_vs_val_performance(history)"
      ],
      "metadata": {
        "colab": {
          "base_uri": "https://localhost:8080/",
          "height": 1000
        },
        "id": "hh4hNPpu1lRW",
        "outputId": "bc08371f-4d95-4a68-f21d-59c8f78e29ea"
      },
      "execution_count": 58,
      "outputs": [
        {
          "output_type": "display_data",
          "data": {
            "text/plain": [
              "<Figure size 1500x1500 with 2 Axes>"
            ],
            "image/png": "[encoded data removed]"
          },
          "metadata": {}
        }
      ]
    },
    {
      "cell_type": "code",
      "source": [
        "embedding_layer = layers.Embedding(\n",
        "    num_tokens,\n",
        "    embedding_dim,\n",
        "    embeddings_initializer=keras.initializers.Constant(embedding_matrix),\n",
        "    input_length=MAX_REVIEW_LEN,\n",
        "    trainable=True\n",
        ")\n",
        "\n",
        "model = keras.Sequential()\n",
        "model.add(embedding_layer)\n",
        "model.add(layers.GlobalAveragePooling1D())\n",
        "model.add(layers.Dense(128, activation='relu'))\n",
        "model.add(layers.Dense(64, activation='relu'))\n",
        "model.add(layers.Dense(1, activation='sigmoid'))\n",
        "\n",
        "model.compile(optimizer='adam',\n",
        "              loss='binary_crossentropy',\n",
        "              metrics=['accuracy'])\n",
        "\n",
        "model.fit(X_train, y_train, epochs=3, batch_size=512, validation_data=(X_val, y_val))"
      ],
      "metadata": {
        "colab": {
          "base_uri": "https://localhost:8080/"
        },
        "id": "TyglPbcF1m3-",
        "outputId": "1d0d6b3c-bfe2-4cfb-a3d0-59f9eafa25b2"
      },
      "execution_count": 59,
      "outputs": [
        {
          "output_type": "stream",
          "name": "stdout",
          "text": [
            "Epoch 1/3\n",
            "167/167 [==============================] - 146s 870ms/step - loss: 0.3622 - accuracy: 0.8389 - val_loss: 0.2221 - val_accuracy: 0.9171\n",
            "Epoch 2/3\n",
            "167/167 [==============================] - 152s 911ms/step - loss: 0.1816 - accuracy: 0.9327 - val_loss: 0.1990 - val_accuracy: 0.9224\n",
            "Epoch 3/3\n",
            "167/167 [==============================] - 143s 853ms/step - loss: 0.1471 - accuracy: 0.9456 - val_loss: 0.1967 - val_accuracy: 0.9242\n"
          ]
        },
        {
          "output_type": "execute_result",
          "data": {
            "text/plain": [
              "<keras.callbacks.History at 0x783856f3a020>"
            ]
          },
          "metadata": {},
          "execution_count": 59
        }
      ]
    },
    {
      "cell_type": "code",
      "source": [
        "yelp_test = pd.read_csv('yelp_review_polarity_csv/test.csv', names=['sentiment', 'review'])"
      ],
      "metadata": {
        "id": "fyGw-g1N1pI1"
      },
      "execution_count": 60,
      "outputs": []
    },
    {
      "cell_type": "code",
      "source": [
        "yelp_test['sentiment'].replace(to_replace=1, value=0, inplace=True)\n",
        "yelp_test['sentiment'].replace(to_replace=2, value=1, inplace=True)\n",
        "yelp_test.head()"
      ],
      "metadata": {
        "colab": {
          "base_uri": "https://localhost:8080/",
          "height": 206
        },
        "id": "Aan5Z-Zw1qz-",
        "outputId": "f903da99-b60a-4a1d-a714-6edecda43f07"
      },
      "execution_count": 61,
      "outputs": [
        {
          "output_type": "execute_result",
          "data": {
            "text/plain": [
              "   sentiment                                             review\n",
              "0          1  Contrary to other reviews, I have zero complai...\n",
              "1          0  Last summer I had an appointment to get new ti...\n",
              "2          1  Friendly staff, same starbucks fair you get an...\n",
              "3          0  The food is good. Unfortunately the service is...\n",
              "4          1  Even when we didn't have a car Filene's Baseme..."
            ],
            "text/html": [
              "\n",
              "  <div id=\"df-60172f0a-f0bc-4aec-9fe1-b1fdbc1b3e64\" class=\"colab-df-container\">\n",
              "    <div>\n",
              "<style scoped>\n",
              "    .dataframe tbody tr th:only-of-type {\n",
              "        vertical-align: middle;\n",
              "    }\n",
              "\n",
              "    .dataframe tbody tr th {\n",
              "        vertical-align: top;\n",
              "    }\n",
              "\n",
              "    .dataframe thead th {\n",
              "        text-align: right;\n",
              "    }\n",
              "</style>\n",
              "<table border=\"1\" class=\"dataframe\">\n",
              "  <thead>\n",
              "    <tr style=\"text-align: right;\">\n",
              "      <th></th>\n",
              "      <th>sentiment</th>\n",
              "      <th>review</th>\n",
              "    </tr>\n",
              "  </thead>\n",
              "  <tbody>\n",
              "    <tr>\n",
              "      <th>0</th>\n",
              "      <td>1</td>\n",
              "      <td>Contrary to other reviews, I have zero complai...</td>\n",
              "    </tr>\n",
              "    <tr>\n",
              "      <th>1</th>\n",
              "      <td>0</td>\n",
              "      <td>Last summer I had an appointment to get new ti...</td>\n",
              "    </tr>\n",
              "    <tr>\n",
              "      <th>2</th>\n",
              "      <td>1</td>\n",
              "      <td>Friendly staff, same starbucks fair you get an...</td>\n",
              "    </tr>\n",
              "    <tr>\n",
              "      <th>3</th>\n",
              "      <td>0</td>\n",
              "      <td>The food is good. Unfortunately the service is...</td>\n",
              "    </tr>\n",
              "    <tr>\n",
              "      <th>4</th>\n",
              "      <td>1</td>\n",
              "      <td>Even when we didn't have a car Filene's Baseme...</td>\n",
              "    </tr>\n",
              "  </tbody>\n",
              "</table>\n",
              "</div>\n",
              "    <div class=\"colab-df-buttons\">\n",
              "\n",
              "  <div class=\"colab-df-container\">\n",
              "    <button class=\"colab-df-convert\" onclick=\"convertToInteractive('df-60172f0a-f0bc-4aec-9fe1-b1fdbc1b3e64')\"\n",
              "            title=\"Convert this dataframe to an interactive table.\"\n",
              "            style=\"display:none;\">\n",
              "\n",
              "  <svg xmlns=\"http://www.w3.org/2000/svg\" height=\"24px\" viewBox=\"0 -960 960 960\">\n",
              "    <path d=\"M120-120v-720h720v720H120Zm60-500h600v-160H180v160Zm220 220h160v-160H400v160Zm0 220h160v-160H400v160ZM180-400h160v-160H180v160Zm440 0h160v-160H620v160ZM180-180h160v-160H180v160Zm440 0h160v-160H620v160Z\"/>\n",
              "  </svg>\n",
              "    </button>\n",
              "\n",
              "  <style>\n",
              "    .colab-df-container {\n",
              "      display:flex;\n",
              "      gap: 12px;\n",
              "    }\n",
              "\n",
              "    .colab-df-convert {\n",
              "      background-color: #E8F0FE;\n",
              "      border: none;\n",
              "      border-radius: 50%;\n",
              "      cursor: pointer;\n",
              "      display: none;\n",
              "      fill: #1967D2;\n",
              "      height: 32px;\n",
              "      padding: 0 0 0 0;\n",
              "      width: 32px;\n",
              "    }\n",
              "\n",
              "    .colab-df-convert:hover {\n",
              "      background-color: #E2EBFA;\n",
              "      box-shadow: 0px 1px 2px rgba(60, 64, 67, 0.3), 0px 1px 3px 1px rgba(60, 64, 67, 0.15);\n",
              "      fill: #174EA6;\n",
              "    }\n",
              "\n",
              "    .colab-df-buttons div {\n",
              "      margin-bottom: 4px;\n",
              "    }\n",
              "\n",
              "    [theme=dark] .colab-df-convert {\n",
              "      background-color: #3B4455;\n",
              "      fill: #D2E3FC;\n",
              "    }\n",
              "\n",
              "    [theme=dark] .colab-df-convert:hover {\n",
              "      background-color: #434B5C;\n",
              "      box-shadow: 0px 1px 3px 1px rgba(0, 0, 0, 0.15);\n",
              "      filter: drop-shadow(0px 1px 2px rgba(0, 0, 0, 0.3));\n",
              "      fill: #FFFFFF;\n",
              "    }\n",
              "  </style>\n",
              "\n",
              "    <script>\n",
              "      const buttonEl =\n",
              "        document.querySelector('#df-60172f0a-f0bc-4aec-9fe1-b1fdbc1b3e64 button.colab-df-convert');\n",
              "      buttonEl.style.display =\n",
              "        google.colab.kernel.accessAllowed ? 'block' : 'none';\n",
              "\n",
              "      async function convertToInteractive(key) {\n",
              "        const element = document.querySelector('#df-60172f0a-f0bc-4aec-9fe1-b1fdbc1b3e64');\n",
              "        const dataTable =\n",
              "          await google.colab.kernel.invokeFunction('convertToInteractive',\n",
              "                                                    [key], {});\n",
              "        if (!dataTable) return;\n",
              "\n",
              "        const docLinkHtml = 'Like what you see? Visit the ' +\n",
              "          '<a target=\"_blank\" href=https://colab.research.google.com/notebooks/data_table.ipynb>data table notebook</a>'\n",
              "          + ' to learn more about interactive tables.';\n",
              "        element.innerHTML = '';\n",
              "        dataTable['output_type'] = 'display_data';\n",
              "        await google.colab.output.renderOutput(dataTable, element);\n",
              "        const docLink = document.createElement('div');\n",
              "        docLink.innerHTML = docLinkHtml;\n",
              "        element.appendChild(docLink);\n",
              "      }\n",
              "    </script>\n",
              "  </div>\n",
              "\n",
              "\n",
              "<div id=\"df-834aa7b7-3c99-4062-b617-16f05f452684\">\n",
              "  <button class=\"colab-df-quickchart\" onclick=\"quickchart('df-834aa7b7-3c99-4062-b617-16f05f452684')\"\n",
              "            title=\"Suggest charts.\"\n",
              "            style=\"display:none;\">\n",
              "\n",
              "<svg xmlns=\"http://www.w3.org/2000/svg\" height=\"24px\"viewBox=\"0 0 24 24\"\n",
              "     width=\"24px\">\n",
              "    <g>\n",
              "        <path d=\"M19 3H5c-1.1 0-2 .9-2 2v14c0 1.1.9 2 2 2h14c1.1 0 2-.9 2-2V5c0-1.1-.9-2-2-2zM9 17H7v-7h2v7zm4 0h-2V7h2v10zm4 0h-2v-4h2v4z\"/>\n",
              "    </g>\n",
              "</svg>\n",
              "  </button>\n",
              "\n",
              "<style>\n",
              "  .colab-df-quickchart {\n",
              "    background-color: #E8F0FE;\n",
              "    border: none;\n",
              "    border-radius: 50%;\n",
              "    cursor: pointer;\n",
              "    display: none;\n",
              "    fill: #1967D2;\n",
              "    height: 32px;\n",
              "    padding: 0 0 0 0;\n",
              "    width: 32px;\n",
              "  }\n",
              "\n",
              "  .colab-df-quickchart:hover {\n",
              "    background-color: #E2EBFA;\n",
              "    box-shadow: 0px 1px 2px rgba(60, 64, 67, 0.3), 0px 1px 3px 1px rgba(60, 64, 67, 0.15);\n",
              "    fill: #174EA6;\n",
              "  }\n",
              "\n",
              "  [theme=dark] .colab-df-quickchart {\n",
              "    background-color: #3B4455;\n",
              "    fill: #D2E3FC;\n",
              "  }\n",
              "\n",
              "  [theme=dark] .colab-df-quickchart:hover {\n",
              "    background-color: #434B5C;\n",
              "    box-shadow: 0px 1px 3px 1px rgba(0, 0, 0, 0.15);\n",
              "    filter: drop-shadow(0px 1px 2px rgba(0, 0, 0, 0.3));\n",
              "    fill: #FFFFFF;\n",
              "  }\n",
              "</style>\n",
              "\n",
              "  <script>\n",
              "    async function quickchart(key) {\n",
              "      const charts = await google.colab.kernel.invokeFunction(\n",
              "          'suggestCharts', [key], {});\n",
              "    }\n",
              "    (() => {\n",
              "      let quickchartButtonEl =\n",
              "        document.querySelector('#df-834aa7b7-3c99-4062-b617-16f05f452684 button');\n",
              "      quickchartButtonEl.style.display =\n",
              "        google.colab.kernel.accessAllowed ? 'block' : 'none';\n",
              "    })();\n",
              "  </script>\n",
              "</div>\n",
              "    </div>\n",
              "  </div>\n"
            ]
          },
          "metadata": {},
          "execution_count": 61
        }
      ]
    },
    {
      "cell_type": "code",
      "source": [
        "y_test = np.array(yelp_test['sentiment'])\n",
        "print(y_test)"
      ],
      "metadata": {
        "colab": {
          "base_uri": "https://localhost:8080/"
        },
        "id": "1_fwNbLH1sB1",
        "outputId": "35b35918-807c-4565-986f-45a5baeba872"
      },
      "execution_count": 62,
      "outputs": [
        {
          "output_type": "stream",
          "name": "stdout",
          "text": [
            "[1 0 1 ... 0 0 0]\n"
          ]
        }
      ]
    },
    {
      "cell_type": "code",
      "source": [
        "X_test = tokenizer.texts_to_sequences(yelp_test['review'])"
      ],
      "metadata": {
        "id": "FBsL61tV1tT6"
      },
      "execution_count": 63,
      "outputs": []
    },
    {
      "cell_type": "code",
      "source": [
        "X_test = keras.preprocessing.sequence.pad_sequences(X_test, maxlen=MAX_REVIEW_LEN)"
      ],
      "metadata": {
        "id": "h9sG7swv1uhg"
      },
      "execution_count": 64,
      "outputs": []
    },
    {
      "cell_type": "code",
      "source": [
        "model.evaluate(X_test, y_test)"
      ],
      "metadata": {
        "colab": {
          "base_uri": "https://localhost:8080/"
        },
        "id": "G_nclshy1v9e",
        "outputId": "12d351dc-efc3-4e63-9530-fa49a7b97177"
      },
      "execution_count": 65,
      "outputs": [
        {
          "output_type": "stream",
          "name": "stdout",
          "text": [
            "1188/1188 [==============================] - 6s 5ms/step - loss: 0.1864 - accuracy: 0.9282\n"
          ]
        },
        {
          "output_type": "execute_result",
          "data": {
            "text/plain": [
              "[0.18637822568416595, 0.9281842112541199]"
            ]
          },
          "metadata": {},
          "execution_count": 65
        }
      ]
    },
    {
      "cell_type": "code",
      "source": [
        "def sentiment(reviews):\n",
        "  seqs = tokenizer.texts_to_sequences(reviews)\n",
        "  seqs = keras.preprocessing.sequence.pad_sequences(seqs, maxlen=MAX_REVIEW_LEN)\n",
        "  return model.predict(seqs)"
      ],
      "metadata": {
        "id": "B-YY9F7W1xPF"
      },
      "execution_count": 66,
      "outputs": []
    },
    {
      "cell_type": "code",
      "source": [
        "# Real reviews from Google Reviews.\n",
        "pos_review = \"The best seafood joint in East Village San Diego!  Great lobster roll, great fish, great oysters, great bread, great cocktails, and such amazing service.  The atmosphere is top notch and the location is so much fun being located just a block away from Petco Park (San Diego Padres Stadium).\"\n",
        "neg_review = \"A thoroughly disappointing experience. When you book a Marriott you expect a certain standard. Albany falls way short. Room cleaning has to be booked 24 hours in advance but nobody thought to mention this at check in. The hotel is tired and needs a face-lift. The only bright light in a sea of mediocrity were the pancakes at breakfast. Sadly they weren't enough to save the experience. If you travel to Albany, then do yourself a big favour and book the Westin.\""
      ],
      "metadata": {
        "id": "NAgIygyY1yyO"
      },
      "execution_count": 67,
      "outputs": []
    },
    {
      "cell_type": "code",
      "source": [
        "print(sentiment([pos_review, neg_review]))"
      ],
      "metadata": {
        "colab": {
          "base_uri": "https://localhost:8080/"
        },
        "id": "ngBBSUOv1009",
        "outputId": "b8012d13-0854-4ce0-f4b2-4c5d4f137241"
      },
      "execution_count": 68,
      "outputs": [
        {
          "output_type": "stream",
          "name": "stdout",
          "text": [
            "1/1 [==============================] - 0s 100ms/step\n",
            "[[0.99952114]\n",
            " [0.00305024]]\n"
          ]
        }
      ]
    },
    {
      "cell_type": "code",
      "source": [
        "tf.random.set_seed(0)\n",
        "\n",
        "model = keras.Sequential()\n",
        "\n",
        "# The 'trainable' property is True by default.\n",
        "model.add(layers.Embedding(input_dim=num_tokens,\n",
        "                           output_dim=embedding_dim,\n",
        "                           input_length=MAX_REVIEW_LEN))\n",
        "\n",
        "\n",
        "model.add(layers.GlobalAveragePooling1D())\n",
        "model.add(layers.Dense(128, activation='relu', kernel_initializer=tf.keras.initializers.random_normal(seed=1)))\n",
        "model.add(layers.Dense(64, activation='relu', kernel_initializer=tf.keras.initializers.random_normal(seed=1)))\n",
        "model.add(layers.Dense(1, activation='sigmoid', kernel_initializer=tf.keras.initializers.random_normal(seed=1)))\n",
        "\n",
        "model.compile(optimizer='adam',\n",
        "              loss='binary_crossentropy',\n",
        "              metrics=['accuracy'])\n",
        "\n",
        "es_callback = keras.callbacks.EarlyStopping(monitor='val_loss', patience=3)\n",
        "history = model.fit(X_train, y_train, epochs=20, batch_size=512, validation_data=(X_val, y_val), callbacks=[es_callback])"
      ],
      "metadata": {
        "colab": {
          "base_uri": "https://localhost:8080/"
        },
        "id": "Waa0Gfeu147O",
        "outputId": "e2805216-5884-4498-8570-fffc6613c868"
      },
      "execution_count": 69,
      "outputs": [
        {
          "output_type": "stream",
          "name": "stdout",
          "text": [
            "Epoch 1/20\n",
            "167/167 [==============================] - 139s 828ms/step - loss: 0.4297 - accuracy: 0.7792 - val_loss: 0.2251 - val_accuracy: 0.9133\n",
            "Epoch 2/20\n",
            "167/167 [==============================] - 134s 803ms/step - loss: 0.1848 - accuracy: 0.9302 - val_loss: 0.2124 - val_accuracy: 0.9163\n",
            "Epoch 3/20\n",
            "167/167 [==============================] - 149s 888ms/step - loss: 0.1503 - accuracy: 0.9458 - val_loss: 0.2037 - val_accuracy: 0.9218\n",
            "Epoch 4/20\n",
            "167/167 [==============================] - 137s 822ms/step - loss: 0.1315 - accuracy: 0.9539 - val_loss: 0.2128 - val_accuracy: 0.9202\n",
            "Epoch 5/20\n",
            "167/167 [==============================] - 135s 810ms/step - loss: 0.1201 - accuracy: 0.9582 - val_loss: 0.2251 - val_accuracy: 0.9176\n",
            "Epoch 6/20\n",
            "167/167 [==============================] - 136s 814ms/step - loss: 0.1101 - accuracy: 0.9626 - val_loss: 0.2319 - val_accuracy: 0.9184\n"
          ]
        }
      ]
    },
    {
      "cell_type": "code",
      "source": [
        "model.evaluate(X_test, y_test)"
      ],
      "metadata": {
        "colab": {
          "base_uri": "https://localhost:8080/"
        },
        "id": "WYic-Sav15rU",
        "outputId": "a3ea53fa-53a3-480b-fe11-cb9c0d925164"
      },
      "execution_count": 70,
      "outputs": [
        {
          "output_type": "stream",
          "name": "stdout",
          "text": [
            "1188/1188 [==============================] - 6s 5ms/step - loss: 0.2175 - accuracy: 0.9221\n"
          ]
        },
        {
          "output_type": "execute_result",
          "data": {
            "text/plain": [
              "[0.21746765077114105, 0.9220526218414307]"
            ]
          },
          "metadata": {},
          "execution_count": 70
        }
      ]
    },
    {
      "cell_type": "code",
      "source": [],
      "metadata": {
        "id": "42w6YbV-16t-"
      },
      "execution_count": null,
      "outputs": []
    }
  ]
}